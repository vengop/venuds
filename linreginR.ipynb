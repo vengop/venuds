{
 "cells": [
  {
   "cell_type": "code",
   "execution_count": null,
   "metadata": {},
   "outputs": [],
   "source": [
    "#Set Working Directory\n",
    "setwd(\"D:/student\")"
   ]
  },
  {
   "cell_type": "code",
   "execution_count": null,
   "metadata": {},
   "outputs": [],
   "source": [
    "#Read the data file\n",
    "DefaultData<-read.csv(\"d:/student/Data.csv\")\n"
   ]
  },
  {
   "cell_type": "code",
   "execution_count": null,
   "metadata": {},
   "outputs": [],
   "source": [
    "#Check if the data is populated/imported properly\n",
    "head(DefaultData)\n",
    "tail(DefaultData)"
   ]
  },
  {
   "cell_type": "code",
   "execution_count": null,
   "metadata": {},
   "outputs": [],
   "source": [
    "#Check the summary of the file\n",
    "summary(DefaultData)\n"
   ]
  },
  {
   "cell_type": "code",
   "execution_count": null,
   "metadata": {},
   "outputs": [],
   "source": [
    "#Generate plot of Dependent variable (Losses)\n",
    "plot(DefaultData$Losses)\n"
   ]
  },
  {
   "cell_type": "code",
   "execution_count": null,
   "metadata": {},
   "outputs": [],
   "source": [
    "#Check the quantile to find out the outlier limit\n",
    "quantile(DefaultData$Losses, c(0,0.05,0.1,0.25,0.5,0.75,0.90,0.95,0.99,0.995,1))\n"
   ]
  },
  {
   "cell_type": "code",
   "execution_count": null,
   "metadata": {},
   "outputs": [],
   "source": [
    "#Creating the Capped Losses column with 1200 cap\n",
    "DefaultData$CappedLosses<-ifelse(DefaultData$Losses>1200,1200,DefaultData$Losses)\n"
   ]
  },
  {
   "cell_type": "code",
   "execution_count": null,
   "metadata": {},
   "outputs": [],
   "source": [
    "#Check if Capped Losses column has been created properly or not\n",
    "summary(DefaultData)\n",
    "names(DefaultData)"
   ]
  },
  {
   "cell_type": "code",
   "execution_count": null,
   "metadata": {},
   "outputs": [],
   "source": [
    "#Create new object deleting Losses and S.no.\n",
    "DefaultData3<-DefaultData[,-c(9)]"
   ]
  },
  {
   "cell_type": "code",
   "execution_count": null,
   "metadata": {},
   "outputs": [],
   "source": [
    "#Check the headings of the new object\n",
    "names(DefaultData3)\n"
   ]
  },
  {
   "cell_type": "code",
   "execution_count": null,
   "metadata": {},
   "outputs": [],
   "source": [
    "#Generate plots to see the relation between the independent variables and the dependent variable\n",
    "plot(DefaultData3$Age,DefaultData3$CappedLosses)\n"
   ]
  },
  {
   "cell_type": "code",
   "execution_count": null,
   "metadata": {},
   "outputs": [],
   "source": [
    "plot(DefaultData3$Years.of.Driving.Experience,DefaultData3$CappedLosses)"
   ]
  },
  {
   "cell_type": "code",
   "execution_count": null,
   "metadata": {},
   "outputs": [],
   "source": [
    "plot(DefaultData3$Number.of.Vehicles,DefaultData3$CappedLosses)"
   ]
  },
  {
   "cell_type": "code",
   "execution_count": null,
   "metadata": {},
   "outputs": [],
   "source": [
    "plot(DefaultData3$Gender,DefaultData3$CappedLosses)"
   ]
  },
  {
   "cell_type": "code",
   "execution_count": null,
   "metadata": {},
   "outputs": [],
   "source": [
    "plot(DefaultData3$Married,DefaultData3$CappedLosses)"
   ]
  },
  {
   "cell_type": "code",
   "execution_count": null,
   "metadata": {},
   "outputs": [],
   "source": [
    "plot(DefaultData3$Vehicle.Age,DefaultData3$CappedLosses)"
   ]
  },
  {
   "cell_type": "code",
   "execution_count": null,
   "metadata": {},
   "outputs": [],
   "source": [
    "plot(DefaultData3$Fuel.Type,DefaultData3$CappedLosses)"
   ]
  },
  {
   "cell_type": "code",
   "execution_count": null,
   "metadata": {},
   "outputs": [],
   "source": [
    "#Need to see Losses Distribution among all independant variables. Pivot Table in R with melt and cast\n",
    "library(\"reshape\")"
   ]
  },
  {
   "cell_type": "code",
   "execution_count": null,
   "metadata": {},
   "outputs": [],
   "source": [
    "#First look at the Data names, by which we want to create pivot table\n",
    "names(DefaultData3)"
   ]
  },
  {
   "cell_type": "code",
   "execution_count": null,
   "metadata": {},
   "outputs": [],
   "source": [
    "#Melt the data: Melt will identify items to be summed/average (Called Measures) and separate out id variables by which we want to add/average\n",
    "data.m<-melt(DefaultData3, id=c(1:8), measure=c(9))"
   ]
  },
  {
   "cell_type": "code",
   "execution_count": null,
   "metadata": {},
   "outputs": [],
   "source": [
    "#Let's look at the different values of our new object\n",
    "head(data.m)\n",
    "#CappedLosses have been melted"
   ]
  },
  {
   "cell_type": "code",
   "execution_count": null,
   "metadata": {},
   "outputs": [],
   "source": [
    "#Let's cast our data\n",
    "cast(data.m, Age~variable,fun.aggregate=sum)\n",
    "data.c<-cast(data.m, Age~variable,mean)\n",
    "data.c\n",
    "data.c<-cast(data.m, Age~variable,c(sum,mean))\n",
    "data.c\n"
   ]
  },
  {
   "cell_type": "code",
   "execution_count": null,
   "metadata": {},
   "outputs": [],
   "source": [
    "#Create Age Bands from 16 to 25, 26 to 59 and 60+\n",
    "DefaultData3$AgeBand<-ifelse(DefaultData3$Age<=25,\"16-25\",\n",
    "                             ifelse(DefaultData3$Age>=60,\"60+\",\"26-59\"))"
   ]
  },
  {
   "cell_type": "code",
   "execution_count": null,
   "metadata": {},
   "outputs": [],
   "source": [
    "#Let's see if we are able to do the conversion in a correct way or not\n",
    "head(DefaultData3)\n",
    "tail(DefaultData3)\n"
   ]
  },
  {
   "cell_type": "code",
   "execution_count": null,
   "metadata": {},
   "outputs": [],
   "source": [
    "#Create AgeBand - Average\n",
    "data.ageband<-aggregate(Age~AgeBand,data=DefaultData3,mean)\n",
    "data.ageband\n"
   ]
  },
  {
   "cell_type": "code",
   "execution_count": null,
   "metadata": {},
   "outputs": [],
   "source": [
    "#Merge two object - Just like vlookup in Excel\n",
    "DefaultData3<-merge(DefaultData3,data.ageband, by=\"AgeBand\")"
   ]
  },
  {
   "cell_type": "code",
   "execution_count": null,
   "metadata": {},
   "outputs": [],
   "source": [
    "#View the data if it has been looked up correctly\n",
    "head(DefaultData3)"
   ]
  },
  {
   "cell_type": "code",
   "execution_count": null,
   "metadata": {},
   "outputs": [],
   "source": [
    "#We can export data from R to excel\n",
    "write.csv(DefaultData3,\"d:/student/Data1.csv\")\n",
    "#Similarly we can convert Vehicle Age to Vehicle Age Band"
   ]
  },
  {
   "cell_type": "code",
   "execution_count": null,
   "metadata": {},
   "outputs": [],
   "source": [
    "#Convert Categorical varibles in Dummy Variable\n",
    "DefaultData3$GenderDummy<-ifelse(DefaultData3$Gender==\"F\",1,0)\n",
    "#Similarly we can covert other categorical variables to Dummy Variables\n"
   ]
  },
  {
   "cell_type": "code",
   "execution_count": null,
   "metadata": {},
   "outputs": [],
   "source": [
    "#Check the headings and the summary\n",
    "names(DefaultData3)\n",
    "summary(DefaultData3)"
   ]
  },
  {
   "cell_type": "code",
   "execution_count": null,
   "metadata": {},
   "outputs": [],
   "source": [
    "#We will use the data which has been converted into bands and dummy variables. Read the final Data\n",
    "DefaultData4<-read.csv(\"d:/student/Linear_Reg_Sample_Data.csv\")\n"
   ]
  },
  {
   "cell_type": "code",
   "execution_count": null,
   "metadata": {},
   "outputs": [],
   "source": [
    "\n",
    "#Look at the column Headings\n",
    "names(DefaultData4)"
   ]
  },
  {
   "cell_type": "code",
   "execution_count": null,
   "metadata": {},
   "outputs": [],
   "source": [
    "library(car)"
   ]
  },
  {
   "cell_type": "code",
   "execution_count": null,
   "metadata": {
    "scrolled": true
   },
   "outputs": [],
   "source": [
    "#Create linear function for vif\n",
    "vif_data<-lm(Capped_Losses~Years_Drv_Exp+Number_Vehicles+Average_Age+Gender_Dummy+Married_Dummy+Avg_Veh_Age+Fuel_Type_Dummy,data=DefaultData4)"
   ]
  },
  {
   "cell_type": "code",
   "execution_count": null,
   "metadata": {},
   "outputs": [],
   "source": [
    "#Check Vif, vif>2 means presence of multicollinearity\n",
    "vif(vif_data)"
   ]
  },
  {
   "cell_type": "code",
   "execution_count": null,
   "metadata": {},
   "outputs": [],
   "source": [
    "#Compare R-square of Average_Age and Years_Drv_Exp to check which performs better\n",
    "age1<-lm(Capped_Losses~Average_Age,data=DefaultData4)\n",
    "drv1<-lm(Capped_Losses~Years_Drv_Exp,data=DefaultData4)"
   ]
  },
  {
   "cell_type": "code",
   "execution_count": null,
   "metadata": {},
   "outputs": [],
   "source": [
    "summary(age1)\n",
    "summary(drv1)"
   ]
  },
  {
   "cell_type": "markdown",
   "metadata": {},
   "source": [
    "#keep Average_Age and remove Years_Drv_Exp\n",
    "#In same way we can decide to keep Age band as compared to Age and Vehicle Age Band as compared to Vehicle Age\n"
   ]
  },
  {
   "cell_type": "code",
   "execution_count": null,
   "metadata": {},
   "outputs": [],
   "source": [
    "#Run Linear Regression w/o Years_Drv_Exp\n",
    "lin_r1<-lm(Capped_Losses~Number_Vehicles+Average_Age+Gender_Dummy+Married_Dummy+Avg_Veh_Age+Fuel_Type_Dummy,data=DefaultData4)\n"
   ]
  },
  {
   "cell_type": "code",
   "execution_count": null,
   "metadata": {},
   "outputs": [],
   "source": [
    "#Let's look at the results\n",
    "summary(lin_r1)"
   ]
  },
  {
   "cell_type": "code",
   "execution_count": null,
   "metadata": {},
   "outputs": [],
   "source": [
    "#Remove Number_Vehicles\n",
    "lin_r<-lm(Capped_Losses~ Average_Age+Gender_Dummy+Married_Dummy+Avg_Veh_Age+Fuel_Type_Dummy,data=DefaultData4)\n"
   ]
  },
  {
   "cell_type": "code",
   "execution_count": null,
   "metadata": {},
   "outputs": [],
   "source": [
    "#Run Linear Regression w/o Number_Vehicles\n",
    "lin_r2<-lm(Capped_Losses~Average_Age+Gender_Dummy+Married_Dummy+Avg_Veh_Age+Fuel_Type_Dummy,data=DefaultData4)\n"
   ]
  },
  {
   "cell_type": "code",
   "execution_count": null,
   "metadata": {},
   "outputs": [],
   "source": [
    "#Let's look at the results\n",
    "summary(lin_r2)\n"
   ]
  },
  {
   "cell_type": "code",
   "execution_count": null,
   "metadata": {},
   "outputs": [],
   "source": [
    "#Variance Covariance Matrix\n",
    "library(\"sandwich\")\n",
    "vcovHC(lin_r2,omega=NULL, type=\"HC4\")"
   ]
  },
  {
   "cell_type": "code",
   "execution_count": null,
   "metadata": {},
   "outputs": [],
   "source": [
    "#Fixing Heteroskedasticity using “Variance-Covariance” matrix\n",
    "library(\"lmtest\")\n",
    "coeftest(lin_r2,df=Inf,vcov=vcovHC(lin_r2,type=\"HC4\"))"
   ]
  },
  {
   "cell_type": "code",
   "execution_count": null,
   "metadata": {},
   "outputs": [],
   "source": []
  },
  {
   "cell_type": "code",
   "execution_count": null,
   "metadata": {},
   "outputs": [],
   "source": []
  }
 ],
 "metadata": {
  "kernelspec": {
   "display_name": "R",
   "language": "R",
   "name": "ir"
  },
  "language_info": {
   "codemirror_mode": "r",
   "file_extension": ".r",
   "mimetype": "text/x-r-source",
   "name": "R",
   "pygments_lexer": "r",
   "version": "3.5.2"
  }
 },
 "nbformat": 4,
 "nbformat_minor": 2
}
