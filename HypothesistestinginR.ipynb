{
 "cells": [
  {
   "cell_type": "markdown",
   "metadata": {},
   "source": [
    "# Hypothesis Testing"
   ]
  },
  {
   "cell_type": "markdown",
   "metadata": {},
   "source": [
    "Hypothesis tests allow us to take a sample of data from a population and infer about the plausibility of competing hypotheses. "
   ]
  },
  {
   "cell_type": "markdown",
   "metadata": {},
   "source": [
    " For example, in the upcoming “promotions” activity , you’ll study the data collected from a psychology study in the 1970’s to infer as to whether there exists gender-based discrimination in the banking industry as a whole."
   ]
  },
  {
   "cell_type": "markdown",
   "metadata": {},
   "source": [
    "Needed packages\n",
    "ggplot2 for data visualization\n",
    "dplyr for data wrangling\n",
    "tidyr for converting data to “tidy” format\n",
    "readr for importing spreadsheet data into R\n",
    "As well as the more advanced purrr, tibble, stringr, and forcats packages"
   ]
  },
  {
   "cell_type": "code",
   "execution_count": null,
   "metadata": {},
   "outputs": [],
   "source": [
    "library(tidyverse)\n",
    "library(infer)\n",
    "library(moderndive)\n",
    "library(nycflights13)\n",
    "library(ggplot2movies)"
   ]
  },
  {
   "cell_type": "markdown",
   "metadata": {},
   "source": [
    "Promotions activity\n",
    " Does gender affect promotions at bank?\n",
    "Say you are working at a bank in the 1970’s and you are submitting your resume to apply for a promotion. Will your gender affect your chances of getting promoted"
   ]
  },
  {
   "cell_type": "markdown",
   "metadata": {},
   "source": [
    "The moderndive package contains the data on the 48 applicants in the promotions data frame. Let’s explore this data first:"
   ]
  },
  {
   "cell_type": "code",
   "execution_count": null,
   "metadata": {},
   "outputs": [],
   "source": [
    "promotions"
   ]
  },
  {
   "cell_type": "markdown",
   "metadata": {},
   "source": [
    "Let’s perform an exploratory data analysis of the relationship between the two categorical variables decision and gender"
   ]
  },
  {
   "cell_type": "code",
   "execution_count": null,
   "metadata": {},
   "outputs": [],
   "source": [
    "ggplot(promotions, aes(x = gender, fill = decision)) +\n",
    "  geom_bar() +\n",
    "  labs(x = \"Gender of name on resume\")"
   ]
  },
  {
   "cell_type": "markdown",
   "metadata": {},
   "source": [
    "It appears that resumes with female names were much less likely to be accepted for promotion. Let’s quantify these promotions rates by computing the proportion of resumes accepted for promotion for each group using the dplyr package for data wrangling:"
   ]
  },
  {
   "cell_type": "code",
   "execution_count": null,
   "metadata": {},
   "outputs": [],
   "source": [
    "promotions %>% \n",
    "  group_by(gender, decision) %>% \n",
    "  summarize(n = n())"
   ]
  },
  {
   "cell_type": "code",
   "execution_count": null,
   "metadata": {},
   "outputs": [],
   "source": [
    "promotions_shuffled"
   ]
  },
  {
   "cell_type": "code",
   "execution_count": null,
   "metadata": {},
   "outputs": [],
   "source": [
    "ggplot(promotions_shuffled, aes(x = gender, fill = decision)) +\n",
    "  geom_bar() +\n",
    "  labs(x = \"Gender of resume name\")"
   ]
  },
  {
   "cell_type": "markdown",
   "metadata": {},
   "source": [
    "Compared to the barplot in  it appears the different in “male” vs “female” promotions rates is now different. Let’s also compute the proportion of resumes accepted for promotion for each group:"
   ]
  },
  {
   "cell_type": "code",
   "execution_count": null,
   "metadata": {},
   "outputs": [],
   "source": [
    "promotions_shuffled %>% \n",
    "  group_by(gender, decision) %>% \n",
    "  summarize(n = n())"
   ]
  },
  {
   "cell_type": "markdown",
   "metadata": {},
   "source": [
    "Understanding hypothesis tests"
   ]
  },
  {
   "cell_type": "markdown",
   "metadata": {},
   "source": [
    "First, a hypothesis is a statement about the value of an unknown population parameter. In our resume activity, our population parameter is the difference in population proportions  \n",
    "\n",
    " . Hypothesis tests can involve any of the population parameters in Table 8.8 of the 6 inference scenarios we’ll cover in this book and more."
   ]
  },
  {
   "cell_type": "markdown",
   "metadata": {},
   "source": [
    "Second, a hypothesis test consists of a test between two competing hypotheses: 1) a null hypothesis  \n",
    "H\n",
    "0\n",
    "  (pronounced “H-naught”) versus 2) an alternative hypothesis  \n",
    "H\n",
    "A\n",
    "  (also denoted  \n",
    "H\n",
    "1\n",
    " )."
   ]
  },
  {
   "cell_type": "markdown",
   "metadata": {},
   "source": [
    "H0 : men and women are promoted at the same rate\n",
    "HA : men are promoted at a higher rate than women\n",
    "\n"
   ]
  },
  {
   "cell_type": "markdown",
   "metadata": {},
   "source": [
    " Conducting hypothesis tests\n",
    " specify variables"
   ]
  },
  {
   "cell_type": "code",
   "execution_count": null,
   "metadata": {},
   "outputs": [],
   "source": [
    "promotions %>% \n",
    "  specify(formula = decision ~ gender, success = \"promoted\")"
   ]
  },
  {
   "cell_type": "markdown",
   "metadata": {},
   "source": [
    "hypothesize the null"
   ]
  },
  {
   "cell_type": "code",
   "execution_count": null,
   "metadata": {},
   "outputs": [],
   "source": [
    "promotions %>% \n",
    "  specify(formula = decision ~ gender, success = \"promoted\") %>% \n",
    "  hypothesize(null = \"independence\")"
   ]
  },
  {
   "cell_type": "markdown",
   "metadata": {},
   "source": [
    "generate replicates"
   ]
  },
  {
   "cell_type": "code",
   "execution_count": null,
   "metadata": {},
   "outputs": [],
   "source": [
    "promotions %>% \n",
    "  specify(formula = decision ~ gender, success = \"promoted\") %>% \n",
    "  hypothesize(null = \"independence\") %>% \n",
    "  generate(reps = 1000, type = \"permute\")"
   ]
  },
  {
   "cell_type": "markdown",
   "metadata": {},
   "source": [
    "calculate summary statistics"
   ]
  },
  {
   "cell_type": "code",
   "execution_count": null,
   "metadata": {},
   "outputs": [],
   "source": [
    "null_distribution <- promotions %>% \n",
    "  specify(formula = decision ~ gender, success = \"promoted\") %>% \n",
    "  hypothesize(null = \"independence\") %>% \n",
    "  generate(reps = 1000, type = \"permute\") %>% \n",
    "  calculate(stat = \"diff in props\", order = c(\"male\", \"female\"))\n",
    "null_distribution"
   ]
  },
  {
   "cell_type": "code",
   "execution_count": null,
   "metadata": {},
   "outputs": [],
   "source": [
    "obs_diff_prop <- promotions %>% \n",
    "  specify(decision ~ gender, success = \"promoted\") %>% \n",
    "  calculate(stat = \"diff in props\", order = c(\"male\", \"female\"))\n",
    "obs_diff_prop"
   ]
  },
  {
   "cell_type": "markdown",
   "metadata": {},
   "source": [
    "visualize the p-value"
   ]
  },
  {
   "cell_type": "code",
   "execution_count": null,
   "metadata": {},
   "outputs": [],
   "source": [
    "visualize(null_distribution, binwidth = 0.1)"
   ]
  },
  {
   "cell_type": "code",
   "execution_count": null,
   "metadata": {},
   "outputs": [],
   "source": [
    "visualize(null_distribution, bins = 10) + \n",
    "  shade_p_value(obs_stat = obs_diff_prop, direction = \"right\")"
   ]
  },
  {
   "cell_type": "code",
   "execution_count": null,
   "metadata": {},
   "outputs": [],
   "source": [
    "null_distribution %>% \n",
    "  get_p_value(obs_stat = obs_diff_prop, direction = \"right\")"
   ]
  },
  {
   "cell_type": "markdown",
   "metadata": {},
   "source": [
    "Comparison with confidence intervals"
   ]
  },
  {
   "cell_type": "code",
   "execution_count": null,
   "metadata": {},
   "outputs": [],
   "source": [
    "null_distribution <- promotions %>% \n",
    "  specify(formula = decision ~ gender, success = \"promoted\") %>% \n",
    "  hypothesize(null = \"independence\") %>% \n",
    "  generate(reps = 1000, type = \"permute\") %>% \n",
    "  calculate(stat = \"diff in props\", order = c(\"male\", \"female\"))"
   ]
  },
  {
   "cell_type": "code",
   "execution_count": null,
   "metadata": {},
   "outputs": [],
   "source": [
    "bootstrap_distribution <- promotions %>% \n",
    "  specify(formula = decision ~ gender, success = \"promoted\") %>% \n",
    "  # Change 1 - Remove hypothesize():\n",
    "  # hypothesize(null = \"independence\") %>% \n",
    "  # Change 2 - Switch type from \"permute\" to \"bootstrap\":\n",
    "  generate(reps = 1000, type = \"bootstrap\") %>% \n",
    "  calculate(stat = \"diff in props\", order = c(\"male\", \"female\"))"
   ]
  },
  {
   "cell_type": "markdown",
   "metadata": {},
   "source": [
    "Using bootstrap_distribution, we first compute the percentile-based confidence intervals:"
   ]
  },
  {
   "cell_type": "code",
   "execution_count": null,
   "metadata": {},
   "outputs": [],
   "source": [
    "percentile_ci <- bootstrap_distribution %>% \n",
    "  get_confidence_interval(level = 0.95, type = \"percentile\")\n",
    "percentile_ci"
   ]
  },
  {
   "cell_type": "code",
   "execution_count": null,
   "metadata": {},
   "outputs": [],
   "source": [
    "visualize(bootstrap_distribution) + \n",
    "  shade_confidence_interval(endpoints = percentile_ci)"
   ]
  },
  {
   "cell_type": "code",
   "execution_count": null,
   "metadata": {},
   "outputs": [],
   "source": [
    "se_ci <- bootstrap_distribution %>% \n",
    "  get_confidence_interval(level = 0.95, type = \"se\", \n",
    "                          point_estimate = obs_diff_prop)\n",
    "se_ci"
   ]
  },
  {
   "cell_type": "code",
   "execution_count": null,
   "metadata": {},
   "outputs": [],
   "source": [
    "visualize(bootstrap_distribution) + \n",
    "  shade_confidence_interval(endpoints = se_ci)"
   ]
  },
  {
   "cell_type": "markdown",
   "metadata": {},
   "source": [
    "Interpreting hypothesis tests\n",
    " Two possible outcomes\n",
    "If the p-value is less than α  , we reject the null hypothesis H0 in favor of HA\n",
    "If the p-value is greater than or equal to α  , we fail to reject the null hypothesis H0\n",
    "\n"
   ]
  },
  {
   "cell_type": "code",
   "execution_count": null,
   "metadata": {},
   "outputs": [],
   "source": []
  },
  {
   "cell_type": "code",
   "execution_count": null,
   "metadata": {},
   "outputs": [],
   "source": []
  }
 ],
 "metadata": {
  "kernelspec": {
   "display_name": "R",
   "language": "R",
   "name": "ir"
  },
  "language_info": {
   "codemirror_mode": "r",
   "file_extension": ".r",
   "mimetype": "text/x-r-source",
   "name": "R",
   "pygments_lexer": "r",
   "version": "3.5.2"
  }
 },
 "nbformat": 4,
 "nbformat_minor": 2
}
