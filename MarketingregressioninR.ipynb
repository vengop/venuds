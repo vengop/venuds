{
 "cells": [
  {
   "cell_type": "code",
   "execution_count": null,
   "metadata": {},
   "outputs": [],
   "source": [
    "#Loading The Data\n",
    "data(\"marketing\", package = \"datarium\")\n",
    "data_size = dim(marketing)"
   ]
  },
  {
   "cell_type": "code",
   "execution_count": null,
   "metadata": {},
   "outputs": [],
   "source": [
    "#Understanding the data\n",
    "head(marketing)\n",
    "summary(marketing)"
   ]
  },
  {
   "cell_type": "code",
   "execution_count": null,
   "metadata": {},
   "outputs": [],
   "source": [
    "#Pairwise plotting technique 1\n",
    "plot(marketing, col=\"purple\", main=\"Plotting Pairs Against Each Other\")"
   ]
  },
  {
   "cell_type": "markdown",
   "metadata": {},
   "source": [
    "Preparing the data"
   ]
  },
  {
   "cell_type": "code",
   "execution_count": null,
   "metadata": {},
   "outputs": [],
   "source": [
    "#Global Variable\n",
    "splitRatio = 0.75\n"
   ]
  },
  {
   "cell_type": "code",
   "execution_count": null,
   "metadata": {},
   "outputs": [],
   "source": [
    "#Splitting The Data\n",
    "set.seed(101)# Set Seed so that same sample can be reproduced in future also\n"
   ]
  },
  {
   "cell_type": "code",
   "execution_count": null,
   "metadata": {},
   "outputs": [],
   "source": [
    "library(caTools)\n",
    "#Now Selecting 75% of data as sample from total 'n' rows of the data\n",
    "sample = sample.split(marketing$youtube, SplitRatio = splitRatio)\n",
    "train = subset(marketing, sample == TRUE)\n",
    "test = subset(marketing, sample == FALSE)\n",
    "train_size = dim(train)\n",
    "test_size = dim(test)"
   ]
  },
  {
   "cell_type": "markdown",
   "metadata": {},
   "source": [
    "Creating the model\n"
   ]
  },
  {
   "cell_type": "code",
   "execution_count": null,
   "metadata": {},
   "outputs": [],
   "source": [
    "#creating the model\n",
    "Model <- lm(sales ~ youtube + facebook + newspaper, data = marketing)\n",
    "summary(Model)"
   ]
  },
  {
   "cell_type": "code",
   "execution_count": null,
   "metadata": {},
   "outputs": [],
   "source": [
    "summary(Model)"
   ]
  },
  {
   "cell_type": "markdown",
   "metadata": {},
   "source": [
    "Model Accuracy Analysis"
   ]
  },
  {
   "cell_type": "code",
   "execution_count": null,
   "metadata": {},
   "outputs": [],
   "source": [
    "#Predicting\n",
    "pred <- predict(Model, test)\n",
    "numx <- data_size[1]*(1 - splitRatio)\n",
    "x_axis <- seq(numx)\n",
    "df <- data.frame(x_axis, pred,test$sales)"
   ]
  },
  {
   "cell_type": "code",
   "execution_count": null,
   "metadata": {},
   "outputs": [],
   "source": [
    "#Plotting the predicted values against the actual values\n",
    "#Plotting the predicted values against the actual values\n",
    "g <- ggplot(df, aes(x=x_axis))\n",
    "g <- g + geom_line(aes(y=pred, colour=\"Predicted\"))\n",
    "g <- g + geom_point(aes(x=x_axis, y=pred, colour=\"Predicted\"))\n",
    "g <- g + geom_line(aes(y=test$sales, colour=\"Actual\"))\n",
    "g <- g + geom_point(aes(x=x_axis, y=test$sales, colour=\"Actual\"))\n",
    "g <- g + scale_colour_manual(\"\", values = c(Predicted=\"red\", Actual=\"blue\"))\n",
    "g"
   ]
  },
  {
   "cell_type": "code",
   "execution_count": null,
   "metadata": {},
   "outputs": [],
   "source": [
    "#Evaluation\n",
    "original = test$sales\n",
    "predicted = pred\n",
    "d = original-predicted\n",
    "mse = mean((d)^2)\n",
    "mae = mean(abs(d))\n",
    "rmse = sqrt(mse)\n",
    "R2 = 1-(sum((d)^2)/sum((original-mean(original))^2))\n",
    "cat(\" MAE:\", mae, \"\\n\", \"MSE:\", mse, \"\\n\", \n",
    "    \"RMSE:\", rmse, \"\\n\", \"R-squared:\", R2)"
   ]
  },
  {
   "cell_type": "markdown",
   "metadata": {},
   "source": [
    "For our model R-Squared error comes out to be 0.88 which is a pretty good number but not probably the best in the world."
   ]
  },
  {
   "cell_type": "code",
   "execution_count": null,
   "metadata": {},
   "outputs": [],
   "source": []
  }
 ],
 "metadata": {
  "kernelspec": {
   "display_name": "R",
   "language": "R",
   "name": "ir"
  },
  "language_info": {
   "codemirror_mode": "r",
   "file_extension": ".r",
   "mimetype": "text/x-r-source",
   "name": "R",
   "pygments_lexer": "r",
   "version": "3.5.2"
  }
 },
 "nbformat": 4,
 "nbformat_minor": 2
}
