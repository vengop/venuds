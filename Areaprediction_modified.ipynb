{
 "cells": [
  {
   "cell_type": "code",
   "execution_count": 2,
   "metadata": {},
   "outputs": [],
   "source": [
    "from numpy import unique\n",
    "from numpy import where\n",
    "import pandas as pd\n",
    "from sklearn.cluster import AgglomerativeClustering\n",
    "from matplotlib import pyplot\n",
    "from sklearn.metrics import silhouette_samples, silhouette_score\n",
    "\n"
   ]
  },
  {
   "cell_type": "code",
   "execution_count": 5,
   "metadata": {},
   "outputs": [
    {
     "name": "stdout",
     "output_type": "stream",
     "text": [
      "   area  sex ratio  r cases  crimes  wine shops  men literacy  porn access  \\\n",
      "0     1        756       44     175          13            71            4   \n",
      "1     2        850       77     162          10            72            5   \n",
      "2     3        945       61     158          13            73            7   \n",
      "3     4        821       69     151          19            75            6   \n",
      "4     5        946       74     197          18            70            5   \n",
      "\n",
      "   psych cases  desserted area  ring roads  slum areas  season  time of visit  \\\n",
      "0           33             0.2           2         0.1       4              1   \n",
      "1           45             0.2           4         0.3       2              2   \n",
      "2           49             0.1           0         0.2       3              2   \n",
      "3           30             0.4           7         0.2       1              1   \n",
      "4           47             0.3           7         0.1       2              1   \n",
      "\n",
      "   outcome  \n",
      "0  133.480  \n",
      "1  147.932  \n",
      "2  157.539  \n",
      "3  141.810  \n",
      "4  164.577  \n"
     ]
    }
   ],
   "source": [
    "# define dataset\n",
    "df = pd.read_csv(\"d:/idealabs_Ai/AreaSafetyPrediction.csv\")\n",
    "print(df.head())\n",
    "\n"
   ]
  },
  {
   "cell_type": "code",
   "execution_count": 6,
   "metadata": {},
   "outputs": [
    {
     "data": {
      "text/plain": [
       "area                2.93000\n",
       "sex ratio         876.03000\n",
       "r cases            60.86000\n",
       "crimes            175.07000\n",
       "wine shops         15.27000\n",
       "men literacy       77.32000\n",
       "porn access         6.40000\n",
       "psych cases        44.74000\n",
       "desserted area      0.29100\n",
       "ring roads          3.48000\n",
       "slum areas          0.22200\n",
       "season              2.53000\n",
       "time of visit       1.49000\n",
       "outcome           152.12249\n",
       "dtype: float64"
      ]
     },
     "execution_count": 6,
     "metadata": {},
     "output_type": "execute_result"
    }
   ],
   "source": [
    "#validating the dataset\n",
    "df.mean()"
   ]
  },
  {
   "cell_type": "code",
   "execution_count": 7,
   "metadata": {},
   "outputs": [],
   "source": [
    "df1=df[:100]"
   ]
  },
  {
   "cell_type": "code",
   "execution_count": 8,
   "metadata": {},
   "outputs": [
    {
     "data": {
      "text/plain": [
       "area                2.93000\n",
       "sex ratio         876.03000\n",
       "r cases            60.86000\n",
       "crimes            175.07000\n",
       "wine shops         15.27000\n",
       "men literacy       77.32000\n",
       "porn access         6.40000\n",
       "psych cases        44.74000\n",
       "desserted area      0.29100\n",
       "ring roads          3.48000\n",
       "slum areas          0.22200\n",
       "season              2.53000\n",
       "time of visit       1.49000\n",
       "outcome           152.12249\n",
       "dtype: float64"
      ]
     },
     "execution_count": 8,
     "metadata": {},
     "output_type": "execute_result"
    }
   ],
   "source": [
    "df1.mean()"
   ]
  },
  {
   "cell_type": "code",
   "execution_count": 9,
   "metadata": {},
   "outputs": [
    {
     "data": {
      "text/plain": [
       "area                int64\n",
       "sex ratio           int64\n",
       "r cases             int64\n",
       "crimes              int64\n",
       "wine shops          int64\n",
       "men literacy        int64\n",
       "porn access         int64\n",
       "psych cases         int64\n",
       "desserted area    float64\n",
       "ring roads          int64\n",
       "slum areas        float64\n",
       "season              int64\n",
       "time of visit       int64\n",
       "outcome           float64\n",
       "dtype: object"
      ]
     },
     "execution_count": 9,
     "metadata": {},
     "output_type": "execute_result"
    }
   ],
   "source": [
    "df.dtypes"
   ]
  },
  {
   "cell_type": "code",
   "execution_count": 10,
   "metadata": {
    "scrolled": true
   },
   "outputs": [
    {
     "data": {
      "text/plain": [
       "array([[<AxesSubplot:title={'center':'area'}>,\n",
       "        <AxesSubplot:title={'center':'sex ratio'}>,\n",
       "        <AxesSubplot:title={'center':'r cases'}>,\n",
       "        <AxesSubplot:title={'center':'crimes'}>],\n",
       "       [<AxesSubplot:title={'center':'wine shops'}>,\n",
       "        <AxesSubplot:title={'center':'men literacy'}>,\n",
       "        <AxesSubplot:title={'center':'porn access'}>,\n",
       "        <AxesSubplot:title={'center':'psych cases'}>],\n",
       "       [<AxesSubplot:title={'center':'desserted area'}>,\n",
       "        <AxesSubplot:title={'center':'ring roads'}>,\n",
       "        <AxesSubplot:title={'center':'slum areas'}>,\n",
       "        <AxesSubplot:title={'center':'season'}>],\n",
       "       [<AxesSubplot:title={'center':'time of visit'}>,\n",
       "        <AxesSubplot:title={'center':'outcome'}>, <AxesSubplot:>,\n",
       "        <AxesSubplot:>]], dtype=object)"
      ]
     },
     "execution_count": 10,
     "metadata": {},
     "output_type": "execute_result"
    },
    {
     "data": {
      "image/png": "[encoded data removed]",
      "text/plain": [
       "<Figure size 432x288 with 16 Axes>"
      ]
     },
     "metadata": {
      "needs_background": "light"
     },
     "output_type": "display_data"
    }
   ],
   "source": [
    "df.hist()"
   ]
  },
  {
   "cell_type": "code",
   "execution_count": 11,
   "metadata": {},
   "outputs": [
    {
     "data": {
      "text/html": [
       "<div>\n",
       "<style scoped>\n",
       "    .dataframe tbody tr th:only-of-type {\n",
       "        vertical-align: middle;\n",
       "    }\n",
       "\n",
       "    .dataframe tbody tr th {\n",
       "        vertical-align: top;\n",
       "    }\n",
       "\n",
       "    .dataframe thead th {\n",
       "        text-align: right;\n",
       "    }\n",
       "</style>\n",
       "<table border=\"1\" class=\"dataframe\">\n",
       "  <thead>\n",
       "    <tr style=\"text-align: right;\">\n",
       "      <th></th>\n",
       "      <th>area</th>\n",
       "      <th>sex ratio</th>\n",
       "      <th>r cases</th>\n",
       "      <th>crimes</th>\n",
       "      <th>wine shops</th>\n",
       "      <th>men literacy</th>\n",
       "      <th>porn access</th>\n",
       "      <th>psych cases</th>\n",
       "      <th>desserted area</th>\n",
       "      <th>ring roads</th>\n",
       "      <th>slum areas</th>\n",
       "      <th>season</th>\n",
       "      <th>time of visit</th>\n",
       "      <th>outcome</th>\n",
       "    </tr>\n",
       "  </thead>\n",
       "  <tbody>\n",
       "    <tr>\n",
       "      <th>0</th>\n",
       "      <td>False</td>\n",
       "      <td>False</td>\n",
       "      <td>False</td>\n",
       "      <td>False</td>\n",
       "      <td>False</td>\n",
       "      <td>False</td>\n",
       "      <td>False</td>\n",
       "      <td>False</td>\n",
       "      <td>False</td>\n",
       "      <td>False</td>\n",
       "      <td>False</td>\n",
       "      <td>False</td>\n",
       "      <td>False</td>\n",
       "      <td>False</td>\n",
       "    </tr>\n",
       "    <tr>\n",
       "      <th>1</th>\n",
       "      <td>False</td>\n",
       "      <td>False</td>\n",
       "      <td>False</td>\n",
       "      <td>False</td>\n",
       "      <td>False</td>\n",
       "      <td>False</td>\n",
       "      <td>False</td>\n",
       "      <td>False</td>\n",
       "      <td>False</td>\n",
       "      <td>False</td>\n",
       "      <td>False</td>\n",
       "      <td>False</td>\n",
       "      <td>False</td>\n",
       "      <td>False</td>\n",
       "    </tr>\n",
       "    <tr>\n",
       "      <th>2</th>\n",
       "      <td>False</td>\n",
       "      <td>False</td>\n",
       "      <td>False</td>\n",
       "      <td>False</td>\n",
       "      <td>False</td>\n",
       "      <td>False</td>\n",
       "      <td>False</td>\n",
       "      <td>False</td>\n",
       "      <td>False</td>\n",
       "      <td>False</td>\n",
       "      <td>False</td>\n",
       "      <td>False</td>\n",
       "      <td>False</td>\n",
       "      <td>False</td>\n",
       "    </tr>\n",
       "    <tr>\n",
       "      <th>3</th>\n",
       "      <td>False</td>\n",
       "      <td>False</td>\n",
       "      <td>False</td>\n",
       "      <td>False</td>\n",
       "      <td>False</td>\n",
       "      <td>False</td>\n",
       "      <td>False</td>\n",
       "      <td>False</td>\n",
       "      <td>False</td>\n",
       "      <td>False</td>\n",
       "      <td>False</td>\n",
       "      <td>False</td>\n",
       "      <td>False</td>\n",
       "      <td>False</td>\n",
       "    </tr>\n",
       "    <tr>\n",
       "      <th>4</th>\n",
       "      <td>False</td>\n",
       "      <td>False</td>\n",
       "      <td>False</td>\n",
       "      <td>False</td>\n",
       "      <td>False</td>\n",
       "      <td>False</td>\n",
       "      <td>False</td>\n",
       "      <td>False</td>\n",
       "      <td>False</td>\n",
       "      <td>False</td>\n",
       "      <td>False</td>\n",
       "      <td>False</td>\n",
       "      <td>False</td>\n",
       "      <td>False</td>\n",
       "    </tr>\n",
       "    <tr>\n",
       "      <th>...</th>\n",
       "      <td>...</td>\n",
       "      <td>...</td>\n",
       "      <td>...</td>\n",
       "      <td>...</td>\n",
       "      <td>...</td>\n",
       "      <td>...</td>\n",
       "      <td>...</td>\n",
       "      <td>...</td>\n",
       "      <td>...</td>\n",
       "      <td>...</td>\n",
       "      <td>...</td>\n",
       "      <td>...</td>\n",
       "      <td>...</td>\n",
       "      <td>...</td>\n",
       "    </tr>\n",
       "    <tr>\n",
       "      <th>95</th>\n",
       "      <td>False</td>\n",
       "      <td>False</td>\n",
       "      <td>False</td>\n",
       "      <td>False</td>\n",
       "      <td>False</td>\n",
       "      <td>False</td>\n",
       "      <td>False</td>\n",
       "      <td>False</td>\n",
       "      <td>False</td>\n",
       "      <td>False</td>\n",
       "      <td>False</td>\n",
       "      <td>False</td>\n",
       "      <td>False</td>\n",
       "      <td>False</td>\n",
       "    </tr>\n",
       "    <tr>\n",
       "      <th>96</th>\n",
       "      <td>False</td>\n",
       "      <td>False</td>\n",
       "      <td>False</td>\n",
       "      <td>False</td>\n",
       "      <td>False</td>\n",
       "      <td>False</td>\n",
       "      <td>False</td>\n",
       "      <td>False</td>\n",
       "      <td>False</td>\n",
       "      <td>False</td>\n",
       "      <td>False</td>\n",
       "      <td>False</td>\n",
       "      <td>False</td>\n",
       "      <td>False</td>\n",
       "    </tr>\n",
       "    <tr>\n",
       "      <th>97</th>\n",
       "      <td>False</td>\n",
       "      <td>False</td>\n",
       "      <td>False</td>\n",
       "      <td>False</td>\n",
       "      <td>False</td>\n",
       "      <td>False</td>\n",
       "      <td>False</td>\n",
       "      <td>False</td>\n",
       "      <td>False</td>\n",
       "      <td>False</td>\n",
       "      <td>False</td>\n",
       "      <td>False</td>\n",
       "      <td>False</td>\n",
       "      <td>False</td>\n",
       "    </tr>\n",
       "    <tr>\n",
       "      <th>98</th>\n",
       "      <td>False</td>\n",
       "      <td>False</td>\n",
       "      <td>False</td>\n",
       "      <td>False</td>\n",
       "      <td>False</td>\n",
       "      <td>False</td>\n",
       "      <td>False</td>\n",
       "      <td>False</td>\n",
       "      <td>False</td>\n",
       "      <td>False</td>\n",
       "      <td>False</td>\n",
       "      <td>False</td>\n",
       "      <td>False</td>\n",
       "      <td>False</td>\n",
       "    </tr>\n",
       "    <tr>\n",
       "      <th>99</th>\n",
       "      <td>False</td>\n",
       "      <td>False</td>\n",
       "      <td>False</td>\n",
       "      <td>False</td>\n",
       "      <td>False</td>\n",
       "      <td>False</td>\n",
       "      <td>False</td>\n",
       "      <td>False</td>\n",
       "      <td>False</td>\n",
       "      <td>False</td>\n",
       "      <td>False</td>\n",
       "      <td>False</td>\n",
       "      <td>False</td>\n",
       "      <td>False</td>\n",
       "    </tr>\n",
       "  </tbody>\n",
       "</table>\n",
       "<p>100 rows × 14 columns</p>\n",
       "</div>"
      ],
      "text/plain": [
       "     area  sex ratio  r cases  crimes  wine shops  men literacy  porn access  \\\n",
       "0   False      False    False   False       False         False        False   \n",
       "1   False      False    False   False       False         False        False   \n",
       "2   False      False    False   False       False         False        False   \n",
       "3   False      False    False   False       False         False        False   \n",
       "4   False      False    False   False       False         False        False   \n",
       "..    ...        ...      ...     ...         ...           ...          ...   \n",
       "95  False      False    False   False       False         False        False   \n",
       "96  False      False    False   False       False         False        False   \n",
       "97  False      False    False   False       False         False        False   \n",
       "98  False      False    False   False       False         False        False   \n",
       "99  False      False    False   False       False         False        False   \n",
       "\n",
       "    psych cases  desserted area  ring roads  slum areas  season  \\\n",
       "0         False           False       False       False   False   \n",
       "1         False           False       False       False   False   \n",
       "2         False           False       False       False   False   \n",
       "3         False           False       False       False   False   \n",
       "4         False           False       False       False   False   \n",
       "..          ...             ...         ...         ...     ...   \n",
       "95        False           False       False       False   False   \n",
       "96        False           False       False       False   False   \n",
       "97        False           False       False       False   False   \n",
       "98        False           False       False       False   False   \n",
       "99        False           False       False       False   False   \n",
       "\n",
       "    time of visit  outcome  \n",
       "0           False    False  \n",
       "1           False    False  \n",
       "2           False    False  \n",
       "3           False    False  \n",
       "4           False    False  \n",
       "..            ...      ...  \n",
       "95          False    False  \n",
       "96          False    False  \n",
       "97          False    False  \n",
       "98          False    False  \n",
       "99          False    False  \n",
       "\n",
       "[100 rows x 14 columns]"
      ]
     },
     "execution_count": 11,
     "metadata": {},
     "output_type": "execute_result"
    }
   ],
   "source": [
    "df.isnull()"
   ]
  },
  {
   "cell_type": "code",
   "execution_count": 12,
   "metadata": {},
   "outputs": [
    {
     "data": {
      "text/plain": [
       "area              0\n",
       "sex ratio         0\n",
       "r cases           0\n",
       "crimes            0\n",
       "wine shops        0\n",
       "men literacy      0\n",
       "porn access       0\n",
       "psych cases       0\n",
       "desserted area    0\n",
       "ring roads        0\n",
       "slum areas        0\n",
       "season            0\n",
       "time of visit     0\n",
       "outcome           0\n",
       "dtype: int64"
      ]
     },
     "execution_count": 12,
     "metadata": {},
     "output_type": "execute_result"
    }
   ],
   "source": [
    "df.isnull().sum()"
   ]
  },
  {
   "cell_type": "code",
   "execution_count": 13,
   "metadata": {},
   "outputs": [
    {
     "data": {
      "text/plain": [
       "<AxesSubplot:>"
      ]
     },
     "execution_count": 13,
     "metadata": {},
     "output_type": "execute_result"
    },
    {
     "data": {
      "image/png": "[encoded data removed]",
      "text/plain": [
       "<Figure size 432x288 with 1 Axes>"
      ]
     },
     "metadata": {
      "needs_background": "light"
     },
     "output_type": "display_data"
    }
   ],
   "source": [
    "#checking for outliers\n",
    "df.boxplot()"
   ]
  },
  {
   "cell_type": "code",
   "execution_count": 14,
   "metadata": {},
   "outputs": [
    {
     "data": {
      "text/html": [
       "<div>\n",
       "<style scoped>\n",
       "    .dataframe tbody tr th:only-of-type {\n",
       "        vertical-align: middle;\n",
       "    }\n",
       "\n",
       "    .dataframe tbody tr th {\n",
       "        vertical-align: top;\n",
       "    }\n",
       "\n",
       "    .dataframe thead th {\n",
       "        text-align: right;\n",
       "    }\n",
       "</style>\n",
       "<table border=\"1\" class=\"dataframe\">\n",
       "  <thead>\n",
       "    <tr style=\"text-align: right;\">\n",
       "      <th></th>\n",
       "      <th>area</th>\n",
       "      <th>sex ratio</th>\n",
       "      <th>r cases</th>\n",
       "      <th>crimes</th>\n",
       "      <th>wine shops</th>\n",
       "      <th>men literacy</th>\n",
       "      <th>porn access</th>\n",
       "      <th>psych cases</th>\n",
       "      <th>desserted area</th>\n",
       "      <th>ring roads</th>\n",
       "      <th>slum areas</th>\n",
       "      <th>season</th>\n",
       "      <th>time of visit</th>\n",
       "      <th>outcome</th>\n",
       "    </tr>\n",
       "  </thead>\n",
       "  <tbody>\n",
       "    <tr>\n",
       "      <th>area</th>\n",
       "      <td>1.000000</td>\n",
       "      <td>0.028595</td>\n",
       "      <td>0.035122</td>\n",
       "      <td>0.115211</td>\n",
       "      <td>0.127591</td>\n",
       "      <td>-0.067478</td>\n",
       "      <td>0.012974</td>\n",
       "      <td>0.012547</td>\n",
       "      <td>-0.091468</td>\n",
       "      <td>-0.066497</td>\n",
       "      <td>-0.112793</td>\n",
       "      <td>0.042531</td>\n",
       "      <td>-0.092355</td>\n",
       "      <td>0.057979</td>\n",
       "    </tr>\n",
       "    <tr>\n",
       "      <th>sex ratio</th>\n",
       "      <td>0.028595</td>\n",
       "      <td>1.000000</td>\n",
       "      <td>-0.022688</td>\n",
       "      <td>0.139297</td>\n",
       "      <td>-0.062857</td>\n",
       "      <td>-0.123505</td>\n",
       "      <td>0.202015</td>\n",
       "      <td>-0.109448</td>\n",
       "      <td>0.184203</td>\n",
       "      <td>0.057041</td>\n",
       "      <td>-0.011680</td>\n",
       "      <td>-0.109134</td>\n",
       "      <td>0.128510</td>\n",
       "      <td>0.954782</td>\n",
       "    </tr>\n",
       "    <tr>\n",
       "      <th>r cases</th>\n",
       "      <td>0.035122</td>\n",
       "      <td>-0.022688</td>\n",
       "      <td>1.000000</td>\n",
       "      <td>0.045849</td>\n",
       "      <td>-0.010233</td>\n",
       "      <td>0.023638</td>\n",
       "      <td>0.020789</td>\n",
       "      <td>-0.067936</td>\n",
       "      <td>0.073704</td>\n",
       "      <td>-0.070923</td>\n",
       "      <td>0.032828</td>\n",
       "      <td>-0.049402</td>\n",
       "      <td>-0.139820</td>\n",
       "      <td>0.118559</td>\n",
       "    </tr>\n",
       "    <tr>\n",
       "      <th>crimes</th>\n",
       "      <td>0.115211</td>\n",
       "      <td>0.139297</td>\n",
       "      <td>0.045849</td>\n",
       "      <td>1.000000</td>\n",
       "      <td>-0.009450</td>\n",
       "      <td>0.153619</td>\n",
       "      <td>-0.002185</td>\n",
       "      <td>0.120434</td>\n",
       "      <td>0.121094</td>\n",
       "      <td>0.020721</td>\n",
       "      <td>0.026565</td>\n",
       "      <td>0.006408</td>\n",
       "      <td>-0.075167</td>\n",
       "      <td>0.374389</td>\n",
       "    </tr>\n",
       "    <tr>\n",
       "      <th>wine shops</th>\n",
       "      <td>0.127591</td>\n",
       "      <td>-0.062857</td>\n",
       "      <td>-0.010233</td>\n",
       "      <td>-0.009450</td>\n",
       "      <td>1.000000</td>\n",
       "      <td>-0.180727</td>\n",
       "      <td>0.061451</td>\n",
       "      <td>0.104614</td>\n",
       "      <td>-0.001515</td>\n",
       "      <td>-0.018088</td>\n",
       "      <td>-0.058947</td>\n",
       "      <td>-0.029681</td>\n",
       "      <td>-0.027006</td>\n",
       "      <td>-0.051603</td>\n",
       "    </tr>\n",
       "    <tr>\n",
       "      <th>men literacy</th>\n",
       "      <td>-0.067478</td>\n",
       "      <td>-0.123505</td>\n",
       "      <td>0.023638</td>\n",
       "      <td>0.153619</td>\n",
       "      <td>-0.180727</td>\n",
       "      <td>1.000000</td>\n",
       "      <td>0.191171</td>\n",
       "      <td>0.001402</td>\n",
       "      <td>0.066774</td>\n",
       "      <td>-0.028451</td>\n",
       "      <td>-0.013803</td>\n",
       "      <td>0.101631</td>\n",
       "      <td>-0.147526</td>\n",
       "      <td>-0.011388</td>\n",
       "    </tr>\n",
       "    <tr>\n",
       "      <th>porn access</th>\n",
       "      <td>0.012974</td>\n",
       "      <td>0.202015</td>\n",
       "      <td>0.020789</td>\n",
       "      <td>-0.002185</td>\n",
       "      <td>0.061451</td>\n",
       "      <td>0.191171</td>\n",
       "      <td>1.000000</td>\n",
       "      <td>0.050500</td>\n",
       "      <td>0.140575</td>\n",
       "      <td>-0.147629</td>\n",
       "      <td>0.117026</td>\n",
       "      <td>-0.090404</td>\n",
       "      <td>-0.073865</td>\n",
       "      <td>0.224215</td>\n",
       "    </tr>\n",
       "    <tr>\n",
       "      <th>psych cases</th>\n",
       "      <td>0.012547</td>\n",
       "      <td>-0.109448</td>\n",
       "      <td>-0.067936</td>\n",
       "      <td>0.120434</td>\n",
       "      <td>0.104614</td>\n",
       "      <td>0.001402</td>\n",
       "      <td>0.050500</td>\n",
       "      <td>1.000000</td>\n",
       "      <td>-0.089458</td>\n",
       "      <td>-0.020036</td>\n",
       "      <td>-0.057337</td>\n",
       "      <td>0.128189</td>\n",
       "      <td>0.103181</td>\n",
       "      <td>0.002296</td>\n",
       "    </tr>\n",
       "    <tr>\n",
       "      <th>desserted area</th>\n",
       "      <td>-0.091468</td>\n",
       "      <td>0.184203</td>\n",
       "      <td>0.073704</td>\n",
       "      <td>0.121094</td>\n",
       "      <td>-0.001515</td>\n",
       "      <td>0.066774</td>\n",
       "      <td>0.140575</td>\n",
       "      <td>-0.089458</td>\n",
       "      <td>1.000000</td>\n",
       "      <td>-0.086234</td>\n",
       "      <td>-0.024525</td>\n",
       "      <td>0.020807</td>\n",
       "      <td>0.190079</td>\n",
       "      <td>0.207610</td>\n",
       "    </tr>\n",
       "    <tr>\n",
       "      <th>ring roads</th>\n",
       "      <td>-0.066497</td>\n",
       "      <td>0.057041</td>\n",
       "      <td>-0.070923</td>\n",
       "      <td>0.020721</td>\n",
       "      <td>-0.018088</td>\n",
       "      <td>-0.028451</td>\n",
       "      <td>-0.147629</td>\n",
       "      <td>-0.020036</td>\n",
       "      <td>-0.086234</td>\n",
       "      <td>1.000000</td>\n",
       "      <td>-0.138843</td>\n",
       "      <td>-0.025401</td>\n",
       "      <td>-0.127013</td>\n",
       "      <td>0.061106</td>\n",
       "    </tr>\n",
       "    <tr>\n",
       "      <th>slum areas</th>\n",
       "      <td>-0.112793</td>\n",
       "      <td>-0.011680</td>\n",
       "      <td>0.032828</td>\n",
       "      <td>0.026565</td>\n",
       "      <td>-0.058947</td>\n",
       "      <td>-0.013803</td>\n",
       "      <td>0.117026</td>\n",
       "      <td>-0.057337</td>\n",
       "      <td>-0.024525</td>\n",
       "      <td>-0.138843</td>\n",
       "      <td>1.000000</td>\n",
       "      <td>-0.067377</td>\n",
       "      <td>0.101827</td>\n",
       "      <td>-0.008331</td>\n",
       "    </tr>\n",
       "    <tr>\n",
       "      <th>season</th>\n",
       "      <td>0.042531</td>\n",
       "      <td>-0.109134</td>\n",
       "      <td>-0.049402</td>\n",
       "      <td>0.006408</td>\n",
       "      <td>-0.029681</td>\n",
       "      <td>0.101631</td>\n",
       "      <td>-0.090404</td>\n",
       "      <td>0.128189</td>\n",
       "      <td>0.020807</td>\n",
       "      <td>-0.025401</td>\n",
       "      <td>-0.067377</td>\n",
       "      <td>1.000000</td>\n",
       "      <td>0.108803</td>\n",
       "      <td>-0.089845</td>\n",
       "    </tr>\n",
       "    <tr>\n",
       "      <th>time of visit</th>\n",
       "      <td>-0.092355</td>\n",
       "      <td>0.128510</td>\n",
       "      <td>-0.139820</td>\n",
       "      <td>-0.075167</td>\n",
       "      <td>-0.027006</td>\n",
       "      <td>-0.147526</td>\n",
       "      <td>-0.073865</td>\n",
       "      <td>0.103181</td>\n",
       "      <td>0.190079</td>\n",
       "      <td>-0.127013</td>\n",
       "      <td>0.101827</td>\n",
       "      <td>0.108803</td>\n",
       "      <td>1.000000</td>\n",
       "      <td>0.081375</td>\n",
       "    </tr>\n",
       "    <tr>\n",
       "      <th>outcome</th>\n",
       "      <td>0.057979</td>\n",
       "      <td>0.954782</td>\n",
       "      <td>0.118559</td>\n",
       "      <td>0.374389</td>\n",
       "      <td>-0.051603</td>\n",
       "      <td>-0.011388</td>\n",
       "      <td>0.224215</td>\n",
       "      <td>0.002296</td>\n",
       "      <td>0.207610</td>\n",
       "      <td>0.061106</td>\n",
       "      <td>-0.008331</td>\n",
       "      <td>-0.089845</td>\n",
       "      <td>0.081375</td>\n",
       "      <td>1.000000</td>\n",
       "    </tr>\n",
       "  </tbody>\n",
       "</table>\n",
       "</div>"
      ],
      "text/plain": [
       "                    area  sex ratio   r cases    crimes  wine shops  \\\n",
       "area            1.000000   0.028595  0.035122  0.115211    0.127591   \n",
       "sex ratio       0.028595   1.000000 -0.022688  0.139297   -0.062857   \n",
       "r cases         0.035122  -0.022688  1.000000  0.045849   -0.010233   \n",
       "crimes          0.115211   0.139297  0.045849  1.000000   -0.009450   \n",
       "wine shops      0.127591  -0.062857 -0.010233 -0.009450    1.000000   \n",
       "men literacy   -0.067478  -0.123505  0.023638  0.153619   -0.180727   \n",
       "porn access     0.012974   0.202015  0.020789 -0.002185    0.061451   \n",
       "psych cases     0.012547  -0.109448 -0.067936  0.120434    0.104614   \n",
       "desserted area -0.091468   0.184203  0.073704  0.121094   -0.001515   \n",
       "ring roads     -0.066497   0.057041 -0.070923  0.020721   -0.018088   \n",
       "slum areas     -0.112793  -0.011680  0.032828  0.026565   -0.058947   \n",
       "season          0.042531  -0.109134 -0.049402  0.006408   -0.029681   \n",
       "time of visit  -0.092355   0.128510 -0.139820 -0.075167   -0.027006   \n",
       "outcome         0.057979   0.954782  0.118559  0.374389   -0.051603   \n",
       "\n",
       "                men literacy  porn access  psych cases  desserted area  \\\n",
       "area               -0.067478     0.012974     0.012547       -0.091468   \n",
       "sex ratio          -0.123505     0.202015    -0.109448        0.184203   \n",
       "r cases             0.023638     0.020789    -0.067936        0.073704   \n",
       "crimes              0.153619    -0.002185     0.120434        0.121094   \n",
       "wine shops         -0.180727     0.061451     0.104614       -0.001515   \n",
       "men literacy        1.000000     0.191171     0.001402        0.066774   \n",
       "porn access         0.191171     1.000000     0.050500        0.140575   \n",
       "psych cases         0.001402     0.050500     1.000000       -0.089458   \n",
       "desserted area      0.066774     0.140575    -0.089458        1.000000   \n",
       "ring roads         -0.028451    -0.147629    -0.020036       -0.086234   \n",
       "slum areas         -0.013803     0.117026    -0.057337       -0.024525   \n",
       "season              0.101631    -0.090404     0.128189        0.020807   \n",
       "time of visit      -0.147526    -0.073865     0.103181        0.190079   \n",
       "outcome            -0.011388     0.224215     0.002296        0.207610   \n",
       "\n",
       "                ring roads  slum areas    season  time of visit   outcome  \n",
       "area             -0.066497   -0.112793  0.042531      -0.092355  0.057979  \n",
       "sex ratio         0.057041   -0.011680 -0.109134       0.128510  0.954782  \n",
       "r cases          -0.070923    0.032828 -0.049402      -0.139820  0.118559  \n",
       "crimes            0.020721    0.026565  0.006408      -0.075167  0.374389  \n",
       "wine shops       -0.018088   -0.058947 -0.029681      -0.027006 -0.051603  \n",
       "men literacy     -0.028451   -0.013803  0.101631      -0.147526 -0.011388  \n",
       "porn access      -0.147629    0.117026 -0.090404      -0.073865  0.224215  \n",
       "psych cases      -0.020036   -0.057337  0.128189       0.103181  0.002296  \n",
       "desserted area   -0.086234   -0.024525  0.020807       0.190079  0.207610  \n",
       "ring roads        1.000000   -0.138843 -0.025401      -0.127013  0.061106  \n",
       "slum areas       -0.138843    1.000000 -0.067377       0.101827 -0.008331  \n",
       "season           -0.025401   -0.067377  1.000000       0.108803 -0.089845  \n",
       "time of visit    -0.127013    0.101827  0.108803       1.000000  0.081375  \n",
       "outcome           0.061106   -0.008331 -0.089845       0.081375  1.000000  "
      ]
     },
     "execution_count": 14,
     "metadata": {},
     "output_type": "execute_result"
    }
   ],
   "source": [
    "df.corr()"
   ]
  },
  {
   "cell_type": "code",
   "execution_count": 15,
   "metadata": {},
   "outputs": [],
   "source": [
    "df=df.drop(columns=['wine shops','men literacy','slum areas','season'])"
   ]
  },
  {
   "cell_type": "code",
   "execution_count": 16,
   "metadata": {},
   "outputs": [
    {
     "data": {
      "text/html": [
       "<div>\n",
       "<style scoped>\n",
       "    .dataframe tbody tr th:only-of-type {\n",
       "        vertical-align: middle;\n",
       "    }\n",
       "\n",
       "    .dataframe tbody tr th {\n",
       "        vertical-align: top;\n",
       "    }\n",
       "\n",
       "    .dataframe thead th {\n",
       "        text-align: right;\n",
       "    }\n",
       "</style>\n",
       "<table border=\"1\" class=\"dataframe\">\n",
       "  <thead>\n",
       "    <tr style=\"text-align: right;\">\n",
       "      <th></th>\n",
       "      <th>area</th>\n",
       "      <th>sex ratio</th>\n",
       "      <th>r cases</th>\n",
       "      <th>crimes</th>\n",
       "      <th>porn access</th>\n",
       "      <th>psych cases</th>\n",
       "      <th>desserted area</th>\n",
       "      <th>ring roads</th>\n",
       "      <th>time of visit</th>\n",
       "      <th>outcome</th>\n",
       "    </tr>\n",
       "  </thead>\n",
       "  <tbody>\n",
       "    <tr>\n",
       "      <th>0</th>\n",
       "      <td>1</td>\n",
       "      <td>756</td>\n",
       "      <td>44</td>\n",
       "      <td>175</td>\n",
       "      <td>4</td>\n",
       "      <td>33</td>\n",
       "      <td>0.2</td>\n",
       "      <td>2</td>\n",
       "      <td>1</td>\n",
       "      <td>133.480</td>\n",
       "    </tr>\n",
       "    <tr>\n",
       "      <th>1</th>\n",
       "      <td>2</td>\n",
       "      <td>850</td>\n",
       "      <td>77</td>\n",
       "      <td>162</td>\n",
       "      <td>5</td>\n",
       "      <td>45</td>\n",
       "      <td>0.2</td>\n",
       "      <td>4</td>\n",
       "      <td>2</td>\n",
       "      <td>147.932</td>\n",
       "    </tr>\n",
       "    <tr>\n",
       "      <th>2</th>\n",
       "      <td>3</td>\n",
       "      <td>945</td>\n",
       "      <td>61</td>\n",
       "      <td>158</td>\n",
       "      <td>7</td>\n",
       "      <td>49</td>\n",
       "      <td>0.1</td>\n",
       "      <td>0</td>\n",
       "      <td>2</td>\n",
       "      <td>157.539</td>\n",
       "    </tr>\n",
       "    <tr>\n",
       "      <th>3</th>\n",
       "      <td>4</td>\n",
       "      <td>821</td>\n",
       "      <td>69</td>\n",
       "      <td>151</td>\n",
       "      <td>6</td>\n",
       "      <td>30</td>\n",
       "      <td>0.4</td>\n",
       "      <td>7</td>\n",
       "      <td>1</td>\n",
       "      <td>141.810</td>\n",
       "    </tr>\n",
       "    <tr>\n",
       "      <th>4</th>\n",
       "      <td>5</td>\n",
       "      <td>946</td>\n",
       "      <td>74</td>\n",
       "      <td>197</td>\n",
       "      <td>5</td>\n",
       "      <td>47</td>\n",
       "      <td>0.3</td>\n",
       "      <td>7</td>\n",
       "      <td>1</td>\n",
       "      <td>164.577</td>\n",
       "    </tr>\n",
       "  </tbody>\n",
       "</table>\n",
       "</div>"
      ],
      "text/plain": [
       "   area  sex ratio  r cases  crimes  porn access  psych cases  desserted area  \\\n",
       "0     1        756       44     175            4           33             0.2   \n",
       "1     2        850       77     162            5           45             0.2   \n",
       "2     3        945       61     158            7           49             0.1   \n",
       "3     4        821       69     151            6           30             0.4   \n",
       "4     5        946       74     197            5           47             0.3   \n",
       "\n",
       "   ring roads  time of visit  outcome  \n",
       "0           2              1  133.480  \n",
       "1           4              2  147.932  \n",
       "2           0              2  157.539  \n",
       "3           7              1  141.810  \n",
       "4           7              1  164.577  "
      ]
     },
     "execution_count": 16,
     "metadata": {},
     "output_type": "execute_result"
    }
   ],
   "source": [
    "df.head()"
   ]
  },
  {
   "cell_type": "code",
   "execution_count": 17,
   "metadata": {},
   "outputs": [],
   "source": [
    "df_out=df[['area','outcome']]"
   ]
  },
  {
   "cell_type": "code",
   "execution_count": 19,
   "metadata": {
    "scrolled": true
   },
   "outputs": [
    {
     "name": "stdout",
     "output_type": "stream",
     "text": [
      "For n_clusters = 2 The average silhouette_score is : 0.5625284759880289\n",
      "For n_clusters = 3 The average silhouette_score is : 0.48844380912001994\n",
      "For n_clusters = 4 The average silhouette_score is : 0.4997604934718878\n",
      "For n_clusters = 5 The average silhouette_score is : 0.4839922397598631\n",
      "For n_clusters = 6 The average silhouette_score is : 0.4518279548681254\n",
      "For n_clusters = 7 The average silhouette_score is : 0.42785112213806825\n",
      "For n_clusters = 8 The average silhouette_score is : 0.4048681509927103\n",
      "For n_clusters = 9 The average silhouette_score is : 0.38341806203787776\n"
     ]
    }
   ],
   "source": [
    "# define the model\n",
    "import sklearn.cluster as cluster\n",
    "from sklearn.cluster import KMeans\n",
    "matrix = df_out.to_numpy()\n",
    "for n_clusters in range(2,10):\n",
    "    kmeans = KMeans(init='k-means++', n_clusters = n_clusters, n_init=100)\n",
    "    kmeans.fit(matrix)\n",
    "    clusters = kmeans.predict(matrix)\n",
    "    silhouette_avg = silhouette_score(matrix, clusters)\n",
    "    print(\"For n_clusters =\", n_clusters, \"The average silhouette_score is :\", silhouette_avg)\n",
    "\n"
   ]
  },
  {
   "cell_type": "code",
   "execution_count": 20,
   "metadata": {},
   "outputs": [
    {
     "name": "stdout",
     "output_type": "stream",
     "text": [
      "score de silhouette: 0.563\n"
     ]
    }
   ],
   "source": [
    "n_clusters = 2\n",
    "kmeans = KMeans(init='k-means++', n_clusters = n_clusters, n_init=30)\n",
    "kmeans.fit(matrix)\n",
    "clusters_customers = kmeans.predict(matrix)\n",
    "silhouette_avg = silhouette_score(matrix, clusters_customers)\n",
    "print('score de silhouette: {:<.3f}'.format(silhouette_avg))"
   ]
  },
  {
   "cell_type": "code",
   "execution_count": 24,
   "metadata": {},
   "outputs": [
    {
     "data": {
      "text/plain": [
       "Text(0, 0.5, 'outcome')"
      ]
     },
     "execution_count": 24,
     "metadata": {},
     "output_type": "execute_result"
    },
    {
     "data": {
      "image/png": "[encoded data removed]",
      "text/plain": [
       "<Figure size 432x288 with 1 Axes>"
      ]
     },
     "metadata": {
      "needs_background": "light"
     },
     "output_type": "display_data"
    }
   ],
   "source": [
    "#create a scatter plot\n",
    "from pandas.plotting import scatter_matrix\n",
    "import matplotlib.pyplot as plt\n",
    "\n",
    "plt.scatter(matrix[:, 0], matrix[:, 1], c=clusters_customers, s=50, cmap='plasma')\n",
    "#select cluster centers\n",
    "centers = kmeans.cluster_centers_\n",
    "plt.scatter(centers[:, 0], centers[:, 1], c='black', s=200, alpha=0.5)\n",
    "plt.xlabel('area', fontsize=15)\n",
    "plt.ylabel('outcome', fontsize=15)"
   ]
  },
  {
   "cell_type": "code",
   "execution_count": 25,
   "metadata": {},
   "outputs": [],
   "source": [
    "from sklearn.cluster import AgglomerativeClustering\n",
    "import scipy.cluster.hierarchy as sch"
   ]
  },
  {
   "cell_type": "code",
   "execution_count": 26,
   "metadata": {},
   "outputs": [],
   "source": [
    "X = df[['area','outcome']]"
   ]
  },
  {
   "cell_type": "code",
   "execution_count": 27,
   "metadata": {},
   "outputs": [
    {
     "data": {
      "image/png": "[encoded data removed]",
      "text/plain": [
       "<Figure size 432x288 with 1 Axes>"
      ]
     },
     "metadata": {
      "needs_background": "light"
     },
     "output_type": "display_data"
    }
   ],
   "source": [
    "dendrogram = sch.dendrogram(sch.linkage(X, method='ward'))"
   ]
  },
  {
   "cell_type": "code",
   "execution_count": 33,
   "metadata": {},
   "outputs": [],
   "source": [
    "model = AgglomerativeClustering(n_clusters=5, affinity='euclidean', linkage='ward')\n",
    "model.fit(X)\n",
    "labels = model.labels_"
   ]
  },
  {
   "cell_type": "code",
   "execution_count": 34,
   "metadata": {},
   "outputs": [
    {
     "data": {
      "text/plain": [
       "array([0, 2, 4, 2, 1, 4, 2, 0, 2, 3, 1, 1, 3, 2, 0, 0, 4, 3, 3, 2, 2, 3,\n",
       "       1, 2, 2, 4, 0, 3, 1, 2, 2, 4, 0, 2, 4, 0, 2, 4, 1, 1, 3, 2, 3, 3,\n",
       "       1, 1, 4, 1, 2, 3, 3, 3, 1, 1, 3, 1, 2, 2, 2, 4, 3, 3, 1, 4, 0, 2,\n",
       "       3, 3, 1, 3, 4, 2, 0, 2, 2, 2, 1, 1, 0, 1, 0, 1, 3, 1, 3, 2, 2, 3,\n",
       "       3, 4, 3, 0, 4, 4, 2, 2, 3, 3, 0, 2], dtype=int64)"
      ]
     },
     "execution_count": 34,
     "metadata": {},
     "output_type": "execute_result"
    }
   ],
   "source": [
    "labels"
   ]
  },
  {
   "cell_type": "code",
   "execution_count": 39,
   "metadata": {},
   "outputs": [
    {
     "data": {
      "image/png": "[encoded data removed]",
      "text/plain": [
       "<Figure size 432x288 with 1 Axes>"
      ]
     },
     "metadata": {
      "needs_background": "light"
     },
     "output_type": "display_data"
    }
   ],
   "source": [
    "import numpy as np\n",
    "X = np.array(X)\n",
    "plt.scatter(X[labels==0, 0], X[labels==0, 1], s=50, marker='o', color='red')\n",
    "plt.scatter(X[labels==1, 0], X[labels==1, 1], s=50, marker='o', color='blue')\n",
    "plt.scatter(X[labels==2, 0], X[labels==2, 1], s=50, marker='o', color='green')\n",
    "plt.scatter(X[labels==3, 0], X[labels==3, 1], s=50, marker='o', color='purple')\n",
    "plt.scatter(X[labels==4, 0], X[labels==4, 1], s=50, marker='o', color='orange')\n",
    "plt.show()"
   ]
  },
  {
   "cell_type": "code",
   "execution_count": null,
   "metadata": {},
   "outputs": [],
   "source": []
  }
 ],
 "metadata": {
  "kernelspec": {
   "display_name": "Python 3",
   "language": "python",
   "name": "python3"
  },
  "language_info": {
   "codemirror_mode": {
    "name": "ipython",
    "version": 3
   },
   "file_extension": ".py",
   "mimetype": "text/x-python",
   "name": "python",
   "nbconvert_exporter": "python",
   "pygments_lexer": "ipython3",
   "version": "3.7.6"
  }
 },
 "nbformat": 4,
 "nbformat_minor": 4
}
