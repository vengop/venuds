{
 "cells": [
  {
   "cell_type": "code",
   "execution_count": 3,
   "metadata": {},
   "outputs": [],
   "source": [
    "from numpy import unique\n",
    "from numpy import where\n",
    "import pandas as pd\n",
    "from sklearn.cluster import AgglomerativeClustering\n",
    "from matplotlib import pyplot"
   ]
  },
  {
   "cell_type": "code",
   "execution_count": 4,
   "metadata": {},
   "outputs": [
    {
     "name": "stdout",
     "output_type": "stream",
     "text": [
      "   area  sex ratio  r cases  crimes  wine shops  men literacy  porn access  \\\n",
      "0     1        756       44     175          13            71            4   \n",
      "1     2        850       77     162          10            72            5   \n",
      "2     3        945       61     158          13            73            7   \n",
      "3     4        821       69     151          19            75            6   \n",
      "4     5        946       74     197          18            70            5   \n",
      "\n",
      "   psych cases  desserted area  ring roads  slum areas  season  time of visit  \\\n",
      "0           33             0.2           2         0.1       4              1   \n",
      "1           45             0.2           4         0.3       2              2   \n",
      "2           49             0.1           0         0.2       3              2   \n",
      "3           30             0.4           7         0.2       1              1   \n",
      "4           47             0.3           7         0.1       2              1   \n",
      "\n",
      "   outcome  class  \n",
      "0  133.480      0  \n",
      "1  147.932      1  \n",
      "2  157.539      1  \n",
      "3  141.810      0  \n",
      "4  164.577      1  \n"
     ]
    }
   ],
   "source": [
    "# define dataset\n",
    "df = pd.read_csv(\"C:\\idealabs_Aii\\AreaSafetyPrediction.csv\")\n",
    "print(df.head())\n",
    "\n"
   ]
  },
  {
   "cell_type": "code",
   "execution_count": 5,
   "metadata": {},
   "outputs": [
    {
     "name": "stdout",
     "output_type": "stream",
     "text": [
      "[0 0 1 0 1 1 0 0 0 0 1 1 1 1 0 0 1 1 1 0 0 1 1 0 0 1 0 0 1 0 0 1 0 0 1 0 0\n",
      " 1 1 1 0 0 1 1 1 1 1 1 0 0 1 0 1 1 1 1 0 0 0 1 1 1 1 1 0 0 1 1 1 1 1 0 0 0\n",
      " 0 0 1 1 0 1 0 1 1 1 1 0 0 0 1 1 1 0 1 1 1 0 0 1 0 0]\n"
     ]
    }
   ],
   "source": [
    "# define the model\n",
    "model = AgglomerativeClustering(n_clusters=2)\n",
    "yhat = model.fit_predict(df)\n",
    "print(yhat)\n",
    "clusters = unique(yhat)\n"
   ]
  },
  {
   "cell_type": "code",
   "execution_count": 6,
   "metadata": {
    "scrolled": true
   },
   "outputs": [
    {
     "data": {
      "image/png": "[encoded data removed]",
      "text/plain": [
       "<Figure size 432x288 with 1 Axes>"
      ]
     },
     "metadata": {
      "needs_background": "light"
     },
     "output_type": "display_data"
    },
    {
     "name": "stdout",
     "output_type": "stream",
     "text": [
      "<class 'pandas.core.series.Series'>\n"
     ]
    }
   ],
   "source": [
    "for cluster in clusters:# print(cluster)\n",
    "    \n",
    "\t# get row indexes for samples with this cluster\n",
    "    row_ix = where(yhat == cluster)\n",
    "\t# create scatter of these samples\n",
    "    for y in row_ix[0]:\n",
    "    \tpyplot.scatter(df.iloc[y, 0], df.iloc[y, 14])\n",
    "        \n",
    "    # show the plot\n",
    "#pyplot.text(1,0.0,'Uppal is a safe area')\n",
    "pyplot.title('Showing clusters in area wise')\n",
    "pyplot.xlabel(\"Area\")\n",
    "pyplot.ylabel(\"class\")\n",
    "pyplot.legend(['1','0.0'])\n",
    "pyplot.show()\n",
    "print(type(df['class']))\n",
    "\n",
    "\n"
   ]
  },
  {
   "cell_type": "code",
   "execution_count": null,
   "metadata": {},
   "outputs": [],
   "source": []
  },
  {
   "cell_type": "code",
   "execution_count": null,
   "metadata": {},
   "outputs": [],
   "source": []
  }
 ],
 "metadata": {
  "kernelspec": {
   "display_name": "Python 3",
   "language": "python",
   "name": "python3"
  },
  "language_info": {
   "codemirror_mode": {
    "name": "ipython",
    "version": 3
   },
   "file_extension": ".py",
   "mimetype": "text/x-python",
   "name": "python",
   "nbconvert_exporter": "python",
   "pygments_lexer": "ipython3",
   "version": "3.7.6"
  }
 },
 "nbformat": 4,
 "nbformat_minor": 4
}
