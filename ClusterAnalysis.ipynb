{
 "cells": [
  {
   "cell_type": "markdown",
   "metadata": {},
   "source": [
    "Cluster Analysis"
   ]
  },
  {
   "cell_type": "markdown",
   "metadata": {},
   "source": [
    "Clustering wines\n",
    "k-means"
   ]
  },
  {
   "cell_type": "code",
   "execution_count": null,
   "metadata": {},
   "outputs": [],
   "source": [
    "data(wine, package='rattle')\n",
    "head(wine)"
   ]
  },
  {
   "cell_type": "code",
   "execution_count": null,
   "metadata": {},
   "outputs": [],
   "source": [
    "wine.stand <- scale(wine[-1])  # To standarize the variables\n",
    "\n",
    "# K-Means\n",
    "k.means.fit <- kmeans(wine.stand, 3) # k = 3"
   ]
  },
  {
   "cell_type": "code",
   "execution_count": null,
   "metadata": {},
   "outputs": [],
   "source": [
    "#In k.means.fit are contained all the elements of the cluster output:\n",
    "attributes(k.means.fit)"
   ]
  },
  {
   "cell_type": "code",
   "execution_count": null,
   "metadata": {},
   "outputs": [],
   "source": [
    "# Centroids:\n",
    "k.means.fit$centers"
   ]
  },
  {
   "cell_type": "code",
   "execution_count": null,
   "metadata": {},
   "outputs": [],
   "source": [
    "# Clusters:\n",
    "k.means.fit$cluster"
   ]
  },
  {
   "cell_type": "code",
   "execution_count": null,
   "metadata": {},
   "outputs": [],
   "source": [
    "# Cluster size:\n",
    "k.means.fit$size"
   ]
  },
  {
   "cell_type": "code",
   "execution_count": null,
   "metadata": {},
   "outputs": [],
   "source": [
    "wssplot <- function(data, nc=15, seed=1234){\n",
    "  wss <- (nrow(data)-1)*sum(apply(data,2,var))\n",
    "  for (i in 2:nc){\n",
    "    set.seed(seed)\n",
    "    wss[i] <- sum(kmeans(data, centers=i)$withinss)}\n",
    "  plot(1:nc, wss, type=\"b\", xlab=\"Number of Clusters\",\n",
    "       ylab=\"Within groups sum of squares\")}\n",
    "\n",
    "wssplot(wine.stand, nc=6) "
   ]
  },
  {
   "cell_type": "code",
   "execution_count": null,
   "metadata": {},
   "outputs": [],
   "source": [
    "#Library clusters allow us to represent (with the aid of PCA) the cluster solution into 2 dimensions:\n",
    "library(cluster)\n",
    "clusplot(wine.stand, k.means.fit$cluster, main='2D representation of the Cluster solution',\n",
    "         color=TRUE, shade=TRUE,\n",
    "         labels=2, lines=0)"
   ]
  },
  {
   "cell_type": "code",
   "execution_count": null,
   "metadata": {},
   "outputs": [],
   "source": [
    "#In order to evaluate the clustering performance we build a confusion matrix:\n",
    "table(wine[,1],k.means.fit$cluster)"
   ]
  },
  {
   "cell_type": "markdown",
   "metadata": {},
   "source": [
    "Hierarchical clustering:\n",
    "Hierarchical methods use a distance matrix as an input for the clustering algorithm. The choice of an appropriate metric will influence the shape of the clusters, as some elements may be close to one another according to one distance and farther away according to another."
   ]
  },
  {
   "cell_type": "code",
   "execution_count": null,
   "metadata": {},
   "outputs": [],
   "source": [
    "d <- dist(wine.stand, method = \"euclidean\") # Euclidean distance matrix."
   ]
  },
  {
   "cell_type": "code",
   "execution_count": null,
   "metadata": {},
   "outputs": [],
   "source": [
    "#We use the Euclidean distance as an input for the clustering algorithm (Ward’s minimum variance criterion minimizes the total within-cluster variance):\n",
    "H.fit <- hclust(d, method=\"ward\")"
   ]
  },
  {
   "cell_type": "code",
   "execution_count": null,
   "metadata": {},
   "outputs": [],
   "source": [
    "#The clustering output can be displayed in a dendrogram\n",
    "plot(H.fit) # display dendogram\n",
    "groups <- cutree(H.fit, k=3) # cut tree into 5 clusters\n",
    "# draw dendogram with red borders around the 5 clusters\n",
    "rect.hclust(H.fit, k=3, border=\"red\") "
   ]
  },
  {
   "cell_type": "code",
   "execution_count": null,
   "metadata": {},
   "outputs": [],
   "source": [
    "table(wine[,1],groups)"
   ]
  },
  {
   "cell_type": "markdown",
   "metadata": {},
   "source": [
    "#Study case I: EUROPEAN PROTEIN CONSUMPTION\n",
    "#We consider 25 European countries (n = 25 units) and their protein intakes (in percent) from nine major food sources (p = 9). The data are listed below.\n"
   ]
  },
  {
   "cell_type": "code",
   "execution_count": null,
   "metadata": {},
   "outputs": [],
   "source": [
    "url = 'http://www.biz.uiowa.edu/faculty/jledolter/DataMining/protein.csv'\n",
    "food <- read.csv(url)\n",
    "head(food)"
   ]
  },
  {
   "cell_type": "code",
   "execution_count": null,
   "metadata": {},
   "outputs": [],
   "source": [
    "#We start first, clustering on just Red and White meat (p=2) and k=3 clusters.\n",
    "set.seed(123456789) ## to fix the random starting clusters\n",
    "grpMeat <- kmeans(food[,c(\"WhiteMeat\",\"RedMeat\")], centers=3, nstart=10)\n",
    "grpMeat"
   ]
  },
  {
   "cell_type": "code",
   "execution_count": null,
   "metadata": {},
   "outputs": [],
   "source": [
    "## list of cluster assignments\n",
    "o=order(grpMeat$cluster)\n",
    "data.frame(food$Country[o],grpMeat$cluster[o])"
   ]
  },
  {
   "cell_type": "code",
   "execution_count": null,
   "metadata": {},
   "outputs": [],
   "source": [
    "#To see a graphical representation of the clustering solution we plot cluster assignments on Red and White meat on a scatter plot:\n",
    "plot(food$Red, food$White, type=\"n\", xlim=c(3,19), xlab=\"Red Meat\", ylab=\"White Meat\")\n",
    "text(x=food$Red, y=food$White, labels=food$Country,col=grpMeat$cluster+1)"
   ]
  },
  {
   "cell_type": "markdown",
   "metadata": {},
   "source": [
    "Next, we cluster on all nine protein groups and prepare the program to create seven clusters. The resulting clusters, shown in color on a scatter plot of white meat against red meat (any other pair of features could be selected), actually makes lot of sense. Countries in close geographic proximity tend to be clustered into the same group."
   ]
  },
  {
   "cell_type": "code",
   "execution_count": null,
   "metadata": {},
   "outputs": [],
   "source": [
    "## same analysis, but now with clustering on all\n",
    "## protein groups change the number of clusters to 7\n",
    "set.seed(123456789)\n",
    "grpProtein <- kmeans(food[,-1], centers=7, nstart=10)\n",
    "o=order(grpProtein$cluster)\n",
    "data.frame(food$Country[o],grpProtein$cluster[o])"
   ]
  },
  {
   "cell_type": "code",
   "execution_count": null,
   "metadata": {},
   "outputs": [],
   "source": [
    "library(cluster)\n",
    "clusplot(food[,-1], grpProtein$cluster, main='2D representation of the Cluster solution', color=TRUE, shade=TRUE, labels=2, lines=0)"
   ]
  },
  {
   "cell_type": "markdown",
   "metadata": {},
   "source": [
    "Alternatively we can implement a Hierarchical approach. We use the agnes function in the package cluster. Argument diss=FALSE indicates that we use the dissimilarity matrix that is being calculated from raw data. Argument metric=“euclidian” indicates that we use Euclidean distance. No standardization is used and the link function is the “average” linkage."
   ]
  },
  {
   "cell_type": "code",
   "execution_count": null,
   "metadata": {},
   "outputs": [],
   "source": [
    "foodagg=agnes(food,diss=FALSE,metric=\"euclidian\")\n",
    "plot(foodagg, main='Dendrogram') ## dendrogram"
   ]
  },
  {
   "cell_type": "markdown",
   "metadata": {},
   "source": [
    "Study case II: Social Network Clustering Analysis"
   ]
  },
  {
   "cell_type": "markdown",
   "metadata": {},
   "source": [
    "From the top 500 words appearing across all pages, 36 words were chosen to represent five categories of interests, namely extracurricular activities, fashion, religion, romance, and antisocial behavior. The 36 words include terms such as football, sexy, kissed, bible, shopping, death, and drugs. The final dataset indicates, for each person, how many times each word appeared in the person’s SNS profile."
   ]
  },
  {
   "cell_type": "code",
   "execution_count": null,
   "metadata": {},
   "outputs": [],
   "source": [
    "teens <- read.csv(\"d:/student/snsdata.csv\")\n",
    "head(teens,3)"
   ]
  },
  {
   "cell_type": "code",
   "execution_count": null,
   "metadata": {},
   "outputs": [],
   "source": [
    "dim(teens)"
   ]
  },
  {
   "cell_type": "code",
   "execution_count": null,
   "metadata": {},
   "outputs": [],
   "source": [
    "str(teens)"
   ]
  },
  {
   "cell_type": "code",
   "execution_count": null,
   "metadata": {},
   "outputs": [],
   "source": [
    "summary(teens$age)"
   ]
  },
  {
   "cell_type": "code",
   "execution_count": null,
   "metadata": {},
   "outputs": [],
   "source": [
    "teens = na.omit(teens)\n",
    "dim(teens)"
   ]
  },
  {
   "cell_type": "markdown",
   "metadata": {},
   "source": [
    "We’ll start our cluster analysis by considering only the 36 features that represent the number of times various interests appeared on the SNS profiles of teens. For convenience, let’s make a data frame containing only these features:"
   ]
  },
  {
   "cell_type": "code",
   "execution_count": null,
   "metadata": {},
   "outputs": [],
   "source": [
    "interests <- teens[5:40]"
   ]
  },
  {
   "cell_type": "code",
   "execution_count": null,
   "metadata": {},
   "outputs": [],
   "source": [
    "#To apply z-score standardization to the interests data frame, we can use the scale() function with lapply(), as follows:\n",
    "interests_z <- as.data.frame(lapply(interests, scale))"
   ]
  },
  {
   "cell_type": "code",
   "execution_count": null,
   "metadata": {},
   "outputs": [],
   "source": [
    "teen_clusters <- kmeans(interests_z, 5)"
   ]
  },
  {
   "cell_type": "code",
   "execution_count": null,
   "metadata": {},
   "outputs": [],
   "source": [
    "teen_clusters$size"
   ]
  },
  {
   "cell_type": "code",
   "execution_count": null,
   "metadata": {},
   "outputs": [],
   "source": [
    "teen_clusters$centers"
   ]
  },
  {
   "cell_type": "code",
   "execution_count": null,
   "metadata": {},
   "outputs": [],
   "source": [
    "par(mfrow=c(2,2))\n",
    "pie(colSums(interests[teen_clusters$cluster==1,]),cex=0.5)\n",
    "\n",
    "pie(colSums(interests[teen_clusters$cluster==2,]),cex=0.5)\n",
    "\n",
    "pie(colSums(interests[teen_clusters$cluster==3,]),cex=0.5)\n",
    "\n",
    "pie(colSums(interests[teen_clusters$cluster==4,]),cex=0.5)"
   ]
  },
  {
   "cell_type": "code",
   "execution_count": null,
   "metadata": {},
   "outputs": [],
   "source": []
  }
 ],
 "metadata": {
  "kernelspec": {
   "display_name": "R",
   "language": "R",
   "name": "ir"
  },
  "language_info": {
   "codemirror_mode": "r",
   "file_extension": ".r",
   "mimetype": "text/x-r-source",
   "name": "R",
   "pygments_lexer": "r",
   "version": "3.5.2"
  }
 },
 "nbformat": 4,
 "nbformat_minor": 2
}
