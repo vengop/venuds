{
 "cells": [
  {
   "cell_type": "markdown",
   "metadata": {},
   "source": [
    "# Clustering Distance Measures\n",
    " Distance Matrix Computation\n",
    " Data Preparation\n",
    " Subset of the data"
   ]
  },
  {
   "cell_type": "code",
   "execution_count": 11,
   "metadata": {},
   "outputs": [],
   "source": [
    "set.seed(123)\n",
    "ss <- sample(1:50, 15) # Take 15 random rows\n",
    "df <- USArrests[ss, ] # Subset the 15 rows\n",
    "df.scaled <- scale(df) # Standardize the variables"
   ]
  },
  {
   "cell_type": "code",
   "execution_count": 12,
   "metadata": {},
   "outputs": [],
   "source": [
    "#  compute distances between rows of the data.\n",
    "  dist.eucl <- dist(df.scaled, method = \"euclidean\")"
   ]
  },
  {
   "cell_type": "code",
   "execution_count": 13,
   "metadata": {},
   "outputs": [
    {
     "data": {
      "text/html": [
       "<table>\n",
       "<caption>A matrix: 3 × 3 of type dbl</caption>\n",
       "<thead>\n",
       "\t<tr><th></th><th scope=col>Iowa</th><th scope=col>Rhode Island</th><th scope=col>Maryland</th></tr>\n",
       "</thead>\n",
       "<tbody>\n",
       "\t<tr><th scope=row>Iowa</th><td>0.0</td><td>2.8</td><td>4.1</td></tr>\n",
       "\t<tr><th scope=row>Rhode Island</th><td>2.8</td><td>0.0</td><td>3.6</td></tr>\n",
       "\t<tr><th scope=row>Maryland</th><td>4.1</td><td>3.6</td><td>0.0</td></tr>\n",
       "</tbody>\n",
       "</table>\n"
      ],
      "text/latex": [
       "A matrix: 3 × 3 of type dbl\n",
       "\\begin{tabular}{r|lll}\n",
       "  & Iowa & Rhode Island & Maryland\\\\\n",
       "\\hline\n",
       "\tIowa & 0.0 & 2.8 & 4.1\\\\\n",
       "\tRhode Island & 2.8 & 0.0 & 3.6\\\\\n",
       "\tMaryland & 4.1 & 3.6 & 0.0\\\\\n",
       "\\end{tabular}\n"
      ],
      "text/markdown": [
       "\n",
       "A matrix: 3 × 3 of type dbl\n",
       "\n",
       "| <!--/--> | Iowa | Rhode Island | Maryland |\n",
       "|---|---|---|---|\n",
       "| Iowa | 0.0 | 2.8 | 4.1 |\n",
       "| Rhode Island | 2.8 | 0.0 | 3.6 |\n",
       "| Maryland | 4.1 | 3.6 | 0.0 |\n",
       "\n"
      ],
      "text/plain": [
       "             Iowa Rhode Island Maryland\n",
       "Iowa         0.0  2.8          4.1     \n",
       "Rhode Island 2.8  0.0          3.6     \n",
       "Maryland     4.1  3.6          0.0     "
      ]
     },
     "metadata": {},
     "output_type": "display_data"
    }
   ],
   "source": [
    "# Reformat as a matrix\n",
    "# Subset the first 3 columns and rows and Round the values\n",
    "round(as.matrix(dist.eucl)[1:3, 1:3], 1)"
   ]
  },
  {
   "cell_type": "markdown",
   "metadata": {},
   "source": [
    " Computing correlation based distances\n",
    "*** The function get_dist()[factoextra package] can be used to compute correlation-based\n",
    "distances. Correlation method can be either pearson, spearman or kendall. ***"
   ]
  },
  {
   "cell_type": "code",
   "execution_count": 14,
   "metadata": {},
   "outputs": [],
   "source": [
    " library(\"factoextra\")\n",
    "dist.cor <- get_dist(df.scaled, method = \"pearson\")"
   ]
  },
  {
   "cell_type": "code",
   "execution_count": 15,
   "metadata": {},
   "outputs": [
    {
     "data": {
      "text/html": [
       "<table>\n",
       "<caption>A matrix: 3 × 3 of type dbl</caption>\n",
       "<thead>\n",
       "\t<tr><th></th><th scope=col>Iowa</th><th scope=col>Rhode Island</th><th scope=col>Maryland</th></tr>\n",
       "</thead>\n",
       "<tbody>\n",
       "\t<tr><th scope=row>Iowa</th><td>0.0</td><td>0.4</td><td>1.9</td></tr>\n",
       "\t<tr><th scope=row>Rhode Island</th><td>0.4</td><td>0.0</td><td>1.5</td></tr>\n",
       "\t<tr><th scope=row>Maryland</th><td>1.9</td><td>1.5</td><td>0.0</td></tr>\n",
       "</tbody>\n",
       "</table>\n"
      ],
      "text/latex": [
       "A matrix: 3 × 3 of type dbl\n",
       "\\begin{tabular}{r|lll}\n",
       "  & Iowa & Rhode Island & Maryland\\\\\n",
       "\\hline\n",
       "\tIowa & 0.0 & 0.4 & 1.9\\\\\n",
       "\tRhode Island & 0.4 & 0.0 & 1.5\\\\\n",
       "\tMaryland & 1.9 & 1.5 & 0.0\\\\\n",
       "\\end{tabular}\n"
      ],
      "text/markdown": [
       "\n",
       "A matrix: 3 × 3 of type dbl\n",
       "\n",
       "| <!--/--> | Iowa | Rhode Island | Maryland |\n",
       "|---|---|---|---|\n",
       "| Iowa | 0.0 | 0.4 | 1.9 |\n",
       "| Rhode Island | 0.4 | 0.0 | 1.5 |\n",
       "| Maryland | 1.9 | 1.5 | 0.0 |\n",
       "\n"
      ],
      "text/plain": [
       "             Iowa Rhode Island Maryland\n",
       "Iowa         0.0  0.4          1.9     \n",
       "Rhode Island 0.4  0.0          1.5     \n",
       "Maryland     1.9  1.5          0.0     "
      ]
     },
     "metadata": {},
     "output_type": "display_data"
    }
   ],
   "source": [
    "# Display a subset\n",
    "round(as.matrix(dist.cor)[1:3, 1:3], 1)\n"
   ]
  },
  {
   "cell_type": "code",
   "execution_count": 16,
   "metadata": {},
   "outputs": [
    {
     "data": {
      "text/html": [
       "<table>\n",
       "<caption>A data.frame: 3 × 8</caption>\n",
       "<thead>\n",
       "\t<tr><th scope=col>V1</th><th scope=col>V2</th><th scope=col>V3</th><th scope=col>V4</th><th scope=col>V5</th><th scope=col>V6</th><th scope=col>V7</th><th scope=col>V8</th></tr>\n",
       "\t<tr><th scope=col>&lt;fct&gt;</th><th scope=col>&lt;fct&gt;</th><th scope=col>&lt;fct&gt;</th><th scope=col>&lt;fct&gt;</th><th scope=col>&lt;ord&gt;</th><th scope=col>&lt;ord&gt;</th><th scope=col>&lt;dbl&gt;</th><th scope=col>&lt;dbl&gt;</th></tr>\n",
       "</thead>\n",
       "<tbody>\n",
       "\t<tr><td>0</td><td>1</td><td>1</td><td>4</td><td>3</td><td>15</td><td> 25</td><td>15</td></tr>\n",
       "\t<tr><td>1</td><td>0</td><td>0</td><td>2</td><td>1</td><td>3 </td><td>150</td><td>50</td></tr>\n",
       "\t<tr><td>0</td><td>1</td><td>0</td><td>3</td><td>3</td><td>1 </td><td>150</td><td>50</td></tr>\n",
       "</tbody>\n",
       "</table>\n"
      ],
      "text/latex": [
       "A data.frame: 3 × 8\n",
       "\\begin{tabular}{r|llllllll}\n",
       " V1 & V2 & V3 & V4 & V5 & V6 & V7 & V8\\\\\n",
       " <fct> & <fct> & <fct> & <fct> & <ord> & <ord> & <dbl> & <dbl>\\\\\n",
       "\\hline\n",
       "\t 0 & 1 & 1 & 4 & 3 & 15 &  25 & 15\\\\\n",
       "\t 1 & 0 & 0 & 2 & 1 & 3  & 150 & 50\\\\\n",
       "\t 0 & 1 & 0 & 3 & 3 & 1  & 150 & 50\\\\\n",
       "\\end{tabular}\n"
      ],
      "text/markdown": [
       "\n",
       "A data.frame: 3 × 8\n",
       "\n",
       "| V1 &lt;fct&gt; | V2 &lt;fct&gt; | V3 &lt;fct&gt; | V4 &lt;fct&gt; | V5 &lt;ord&gt; | V6 &lt;ord&gt; | V7 &lt;dbl&gt; | V8 &lt;dbl&gt; |\n",
       "|---|---|---|---|---|---|---|---|\n",
       "| 0 | 1 | 1 | 4 | 3 | 15 |  25 | 15 |\n",
       "| 1 | 0 | 0 | 2 | 1 | 3  | 150 | 50 |\n",
       "| 0 | 1 | 0 | 3 | 3 | 1  | 150 | 50 |\n",
       "\n"
      ],
      "text/plain": [
       "  V1 V2 V3 V4 V5 V6 V7  V8\n",
       "1 0  1  1  4  3  15  25 15\n",
       "2 1  0  0  2  1  3  150 50\n",
       "3 0  1  0  3  3  1  150 50"
      ]
     },
     "metadata": {},
     "output_type": "display_data"
    }
   ],
   "source": [
    "#Computing distances for mixed data\n",
    " library(cluster)\n",
    "# Load data\n",
    "data(flower)\n",
    "head(flower, 3)"
   ]
  },
  {
   "cell_type": "code",
   "execution_count": 17,
   "metadata": {},
   "outputs": [
    {
     "name": "stdout",
     "output_type": "stream",
     "text": [
      "'data.frame':\t18 obs. of  8 variables:\n",
      " $ V1: Factor w/ 2 levels \"0\",\"1\": 1 2 1 1 1 1 1 1 2 2 ...\n",
      " $ V2: Factor w/ 2 levels \"0\",\"1\": 2 1 2 1 2 2 1 1 2 2 ...\n",
      " $ V3: Factor w/ 2 levels \"0\",\"1\": 2 1 1 2 1 1 1 2 1 1 ...\n",
      " $ V4: Factor w/ 5 levels \"1\",\"2\",\"3\",\"4\",..: 4 2 3 4 5 4 4 2 3 5 ...\n",
      " $ V5: Ord.factor w/ 3 levels \"1\"<\"2\"<\"3\": 3 1 3 2 2 3 3 2 1 2 ...\n",
      " $ V6: Ord.factor w/ 18 levels \"1\"<\"2\"<\"3\"<\"4\"<..: 15 3 1 16 2 12 13 7 4 14 ...\n",
      " $ V7: num  25 150 150 125 20 50 40 100 25 100 ...\n",
      " $ V8: num  15 50 50 50 15 40 20 15 15 60 ...\n"
     ]
    }
   ],
   "source": [
    "# Data structure\n",
    "str(flower)"
   ]
  },
  {
   "cell_type": "code",
   "execution_count": 18,
   "metadata": {},
   "outputs": [
    {
     "data": {
      "text/html": [
       "<table>\n",
       "<caption>A matrix: 3 × 3 of type dbl</caption>\n",
       "<thead>\n",
       "\t<tr><th scope=col>1</th><th scope=col>2</th><th scope=col>3</th></tr>\n",
       "</thead>\n",
       "<tbody>\n",
       "\t<tr><td>0.00</td><td>0.89</td><td>0.53</td></tr>\n",
       "\t<tr><td>0.89</td><td>0.00</td><td>0.51</td></tr>\n",
       "\t<tr><td>0.53</td><td>0.51</td><td>0.00</td></tr>\n",
       "</tbody>\n",
       "</table>\n"
      ],
      "text/latex": [
       "A matrix: 3 × 3 of type dbl\n",
       "\\begin{tabular}{r|lll}\n",
       " 1 & 2 & 3\\\\\n",
       "\\hline\n",
       "\t 0.00 & 0.89 & 0.53\\\\\n",
       "\t 0.89 & 0.00 & 0.51\\\\\n",
       "\t 0.53 & 0.51 & 0.00\\\\\n",
       "\\end{tabular}\n"
      ],
      "text/markdown": [
       "\n",
       "A matrix: 3 × 3 of type dbl\n",
       "\n",
       "| 1 | 2 | 3 |\n",
       "|---|---|---|\n",
       "| 0.00 | 0.89 | 0.53 |\n",
       "| 0.89 | 0.00 | 0.51 |\n",
       "| 0.53 | 0.51 | 0.00 |\n",
       "\n"
      ],
      "text/plain": [
       "  1    2    3   \n",
       "1 0.00 0.89 0.53\n",
       "2 0.89 0.00 0.51\n",
       "3 0.53 0.51 0.00"
      ]
     },
     "metadata": {},
     "output_type": "display_data"
    }
   ],
   "source": [
    "# Distance matrix\n",
    "dd <- daisy(flower)\n",
    "round(as.matrix(dd)[1:3, 1:3], 2)"
   ]
  },
  {
   "cell_type": "code",
   "execution_count": 19,
   "metadata": {},
   "outputs": [
    {
     "data": {
      "image/png": "[encoded data removed]",
      "text/plain": [
       "plot without title"
      ]
     },
     "metadata": {},
     "output_type": "display_data"
    }
   ],
   "source": [
    "# Visualizing distance matrices\n",
    "\n",
    "library(factoextra)\n",
    "fviz_dist(dist.eucl)\n"
   ]
  },
  {
   "cell_type": "markdown",
   "metadata": {},
   "source": [
    "# Partioning Clustering"
   ]
  },
  {
   "cell_type": "code",
   "execution_count": 20,
   "metadata": {},
   "outputs": [],
   "source": [
    "#K - Means Algorithm\n",
    "# Data\n",
    "\n",
    "data(\"USArrests\") # Loading the data set\n",
    "df <- scale(USArrests) # Scaling the data"
   ]
  },
  {
   "cell_type": "code",
   "execution_count": 21,
   "metadata": {},
   "outputs": [
    {
     "data": {
      "text/html": [
       "<table>\n",
       "<caption>A matrix: 3 × 4 of type dbl</caption>\n",
       "<thead>\n",
       "\t<tr><th></th><th scope=col>Murder</th><th scope=col>Assault</th><th scope=col>UrbanPop</th><th scope=col>Rape</th></tr>\n",
       "</thead>\n",
       "<tbody>\n",
       "\t<tr><th scope=row>Alabama</th><td>1.24256408</td><td>0.7828393</td><td>-0.5209066</td><td>-0.003416473</td></tr>\n",
       "\t<tr><th scope=row>Alaska</th><td>0.50786248</td><td>1.1068225</td><td>-1.2117642</td><td> 2.484202941</td></tr>\n",
       "\t<tr><th scope=row>Arizona</th><td>0.07163341</td><td>1.4788032</td><td> 0.9989801</td><td> 1.042878388</td></tr>\n",
       "</tbody>\n",
       "</table>\n"
      ],
      "text/latex": [
       "A matrix: 3 × 4 of type dbl\n",
       "\\begin{tabular}{r|llll}\n",
       "  & Murder & Assault & UrbanPop & Rape\\\\\n",
       "\\hline\n",
       "\tAlabama & 1.24256408 & 0.7828393 & -0.5209066 & -0.003416473\\\\\n",
       "\tAlaska & 0.50786248 & 1.1068225 & -1.2117642 &  2.484202941\\\\\n",
       "\tArizona & 0.07163341 & 1.4788032 &  0.9989801 &  1.042878388\\\\\n",
       "\\end{tabular}\n"
      ],
      "text/markdown": [
       "\n",
       "A matrix: 3 × 4 of type dbl\n",
       "\n",
       "| <!--/--> | Murder | Assault | UrbanPop | Rape |\n",
       "|---|---|---|---|---|\n",
       "| Alabama | 1.24256408 | 0.7828393 | -0.5209066 | -0.003416473 |\n",
       "| Alaska | 0.50786248 | 1.1068225 | -1.2117642 |  2.484202941 |\n",
       "| Arizona | 0.07163341 | 1.4788032 |  0.9989801 |  1.042878388 |\n",
       "\n"
      ],
      "text/plain": [
       "        Murder     Assault   UrbanPop   Rape        \n",
       "Alabama 1.24256408 0.7828393 -0.5209066 -0.003416473\n",
       "Alaska  0.50786248 1.1068225 -1.2117642  2.484202941\n",
       "Arizona 0.07163341 1.4788032  0.9989801  1.042878388"
      ]
     },
     "metadata": {},
     "output_type": "display_data"
    }
   ],
   "source": [
    "# View the firt 3 rows of the data\n",
    "head(df, n = 3)"
   ]
  },
  {
   "cell_type": "markdown",
   "metadata": {},
   "source": [
    "*** The standard R function for k-means clustering is kmeans() [stats package], which\n",
    "simplified format is as follow:\n",
    "  kmeans(x, centers, iter.max = 10, nstart = 1) ***"
   ]
  },
  {
   "cell_type": "code",
   "execution_count": 22,
   "metadata": {},
   "outputs": [
    {
     "data": {
      "image/png": "[encoded data removed]",
      "text/plain": [
       "plot without title"
      ]
     },
     "metadata": {},
     "output_type": "display_data"
    }
   ],
   "source": [
    "# Estimating the optimal number of clusters\n",
    "library(factoextra)\n",
    "fviz_nbclust(df, kmeans, method = \"wss\") +\n",
    "  geom_vline(xintercept = 4, linetype = 2)"
   ]
  },
  {
   "cell_type": "code",
   "execution_count": 23,
   "metadata": {},
   "outputs": [],
   "source": [
    "# Computing k-means clustering\n",
    "# Compute k-means with k = 4\n",
    "set.seed(123)\n",
    "km.res <- kmeans(df, 4, nstart = 25)"
   ]
  },
  {
   "cell_type": "code",
   "execution_count": 24,
   "metadata": {},
   "outputs": [
    {
     "name": "stdout",
     "output_type": "stream",
     "text": [
      "K-means clustering with 4 clusters of sizes 13, 16, 13, 8\n",
      "\n",
      "Cluster means:\n",
      "      Murder    Assault   UrbanPop        Rape\n",
      "1 -0.9615407 -1.1066010 -0.9301069 -0.96676331\n",
      "2 -0.4894375 -0.3826001  0.5758298 -0.26165379\n",
      "3  0.6950701  1.0394414  0.7226370  1.27693964\n",
      "4  1.4118898  0.8743346 -0.8145211  0.01927104\n",
      "\n",
      "Clustering vector:\n",
      "       Alabama         Alaska        Arizona       Arkansas     California \n",
      "             4              3              3              4              3 \n",
      "      Colorado    Connecticut       Delaware        Florida        Georgia \n",
      "             3              2              2              3              4 \n",
      "        Hawaii          Idaho       Illinois        Indiana           Iowa \n",
      "             2              1              3              2              1 \n",
      "        Kansas       Kentucky      Louisiana          Maine       Maryland \n",
      "             2              1              4              1              3 \n",
      " Massachusetts       Michigan      Minnesota    Mississippi       Missouri \n",
      "             2              3              1              4              3 \n",
      "       Montana       Nebraska         Nevada  New Hampshire     New Jersey \n",
      "             1              1              3              1              2 \n",
      "    New Mexico       New York North Carolina   North Dakota           Ohio \n",
      "             3              3              4              1              2 \n",
      "      Oklahoma         Oregon   Pennsylvania   Rhode Island South Carolina \n",
      "             2              2              2              2              4 \n",
      "  South Dakota      Tennessee          Texas           Utah        Vermont \n",
      "             1              4              3              2              1 \n",
      "      Virginia     Washington  West Virginia      Wisconsin        Wyoming \n",
      "             2              2              1              1              2 \n",
      "\n",
      "Within cluster sum of squares by cluster:\n",
      "[1] 11.952463 16.212213 19.922437  8.316061\n",
      " (between_SS / total_SS =  71.2 %)\n",
      "\n",
      "Available components:\n",
      "\n",
      "[1] \"cluster\"      \"centers\"      \"totss\"        \"withinss\"     \"tot.withinss\"\n",
      "[6] \"betweenss\"    \"size\"         \"iter\"         \"ifault\"      \n"
     ]
    }
   ],
   "source": [
    "# Print the results\n",
    "print(km.res)"
   ]
  },
  {
   "cell_type": "code",
   "execution_count": 25,
   "metadata": {},
   "outputs": [
    {
     "data": {
      "text/html": [
       "<table>\n",
       "<caption>A data.frame: 4 × 5</caption>\n",
       "<thead>\n",
       "\t<tr><th scope=col>cluster</th><th scope=col>Murder</th><th scope=col>Assault</th><th scope=col>UrbanPop</th><th scope=col>Rape</th></tr>\n",
       "\t<tr><th scope=col>&lt;int&gt;</th><th scope=col>&lt;dbl&gt;</th><th scope=col>&lt;dbl&gt;</th><th scope=col>&lt;dbl&gt;</th><th scope=col>&lt;dbl&gt;</th></tr>\n",
       "</thead>\n",
       "<tbody>\n",
       "\t<tr><td>1</td><td> 3.60000</td><td> 78.53846</td><td>52.07692</td><td>12.17692</td></tr>\n",
       "\t<tr><td>2</td><td> 5.65625</td><td>138.87500</td><td>73.87500</td><td>18.78125</td></tr>\n",
       "\t<tr><td>3</td><td>10.81538</td><td>257.38462</td><td>76.00000</td><td>33.19231</td></tr>\n",
       "\t<tr><td>4</td><td>13.93750</td><td>243.62500</td><td>53.75000</td><td>21.41250</td></tr>\n",
       "</tbody>\n",
       "</table>\n"
      ],
      "text/latex": [
       "A data.frame: 4 × 5\n",
       "\\begin{tabular}{r|lllll}\n",
       " cluster & Murder & Assault & UrbanPop & Rape\\\\\n",
       " <int> & <dbl> & <dbl> & <dbl> & <dbl>\\\\\n",
       "\\hline\n",
       "\t 1 &  3.60000 &  78.53846 & 52.07692 & 12.17692\\\\\n",
       "\t 2 &  5.65625 & 138.87500 & 73.87500 & 18.78125\\\\\n",
       "\t 3 & 10.81538 & 257.38462 & 76.00000 & 33.19231\\\\\n",
       "\t 4 & 13.93750 & 243.62500 & 53.75000 & 21.41250\\\\\n",
       "\\end{tabular}\n"
      ],
      "text/markdown": [
       "\n",
       "A data.frame: 4 × 5\n",
       "\n",
       "| cluster &lt;int&gt; | Murder &lt;dbl&gt; | Assault &lt;dbl&gt; | UrbanPop &lt;dbl&gt; | Rape &lt;dbl&gt; |\n",
       "|---|---|---|---|---|\n",
       "| 1 |  3.60000 |  78.53846 | 52.07692 | 12.17692 |\n",
       "| 2 |  5.65625 | 138.87500 | 73.87500 | 18.78125 |\n",
       "| 3 | 10.81538 | 257.38462 | 76.00000 | 33.19231 |\n",
       "| 4 | 13.93750 | 243.62500 | 53.75000 | 21.41250 |\n",
       "\n"
      ],
      "text/plain": [
       "  cluster Murder   Assault   UrbanPop Rape    \n",
       "1 1        3.60000  78.53846 52.07692 12.17692\n",
       "2 2        5.65625 138.87500 73.87500 18.78125\n",
       "3 3       10.81538 257.38462 76.00000 33.19231\n",
       "4 4       13.93750 243.62500 53.75000 21.41250"
      ]
     },
     "metadata": {},
     "output_type": "display_data"
    },
    {
     "data": {
      "text/html": [
       "<table>\n",
       "<caption>A data.frame: 6 × 5</caption>\n",
       "<thead>\n",
       "\t<tr><th></th><th scope=col>Murder</th><th scope=col>Assault</th><th scope=col>UrbanPop</th><th scope=col>Rape</th><th scope=col>cluster</th></tr>\n",
       "\t<tr><th></th><th scope=col>&lt;dbl&gt;</th><th scope=col>&lt;int&gt;</th><th scope=col>&lt;int&gt;</th><th scope=col>&lt;dbl&gt;</th><th scope=col>&lt;int&gt;</th></tr>\n",
       "</thead>\n",
       "<tbody>\n",
       "\t<tr><th scope=row>Alabama</th><td>13.2</td><td>236</td><td>58</td><td>21.2</td><td>4</td></tr>\n",
       "\t<tr><th scope=row>Alaska</th><td>10.0</td><td>263</td><td>48</td><td>44.5</td><td>3</td></tr>\n",
       "\t<tr><th scope=row>Arizona</th><td> 8.1</td><td>294</td><td>80</td><td>31.0</td><td>3</td></tr>\n",
       "\t<tr><th scope=row>Arkansas</th><td> 8.8</td><td>190</td><td>50</td><td>19.5</td><td>4</td></tr>\n",
       "\t<tr><th scope=row>California</th><td> 9.0</td><td>276</td><td>91</td><td>40.6</td><td>3</td></tr>\n",
       "\t<tr><th scope=row>Colorado</th><td> 7.9</td><td>204</td><td>78</td><td>38.7</td><td>3</td></tr>\n",
       "</tbody>\n",
       "</table>\n"
      ],
      "text/latex": [
       "A data.frame: 6 × 5\n",
       "\\begin{tabular}{r|lllll}\n",
       "  & Murder & Assault & UrbanPop & Rape & cluster\\\\\n",
       "  & <dbl> & <int> & <int> & <dbl> & <int>\\\\\n",
       "\\hline\n",
       "\tAlabama & 13.2 & 236 & 58 & 21.2 & 4\\\\\n",
       "\tAlaska & 10.0 & 263 & 48 & 44.5 & 3\\\\\n",
       "\tArizona &  8.1 & 294 & 80 & 31.0 & 3\\\\\n",
       "\tArkansas &  8.8 & 190 & 50 & 19.5 & 4\\\\\n",
       "\tCalifornia &  9.0 & 276 & 91 & 40.6 & 3\\\\\n",
       "\tColorado &  7.9 & 204 & 78 & 38.7 & 3\\\\\n",
       "\\end{tabular}\n"
      ],
      "text/markdown": [
       "\n",
       "A data.frame: 6 × 5\n",
       "\n",
       "| <!--/--> | Murder &lt;dbl&gt; | Assault &lt;int&gt; | UrbanPop &lt;int&gt; | Rape &lt;dbl&gt; | cluster &lt;int&gt; |\n",
       "|---|---|---|---|---|---|\n",
       "| Alabama | 13.2 | 236 | 58 | 21.2 | 4 |\n",
       "| Alaska | 10.0 | 263 | 48 | 44.5 | 3 |\n",
       "| Arizona |  8.1 | 294 | 80 | 31.0 | 3 |\n",
       "| Arkansas |  8.8 | 190 | 50 | 19.5 | 4 |\n",
       "| California |  9.0 | 276 | 91 | 40.6 | 3 |\n",
       "| Colorado |  7.9 | 204 | 78 | 38.7 | 3 |\n",
       "\n"
      ],
      "text/plain": [
       "           Murder Assault UrbanPop Rape cluster\n",
       "Alabama    13.2   236     58       21.2 4      \n",
       "Alaska     10.0   263     48       44.5 3      \n",
       "Arizona     8.1   294     80       31.0 3      \n",
       "Arkansas    8.8   190     50       19.5 4      \n",
       "California  9.0   276     91       40.6 3      \n",
       "Colorado    7.9   204     78       38.7 3      "
      ]
     },
     "metadata": {},
     "output_type": "display_data"
    }
   ],
   "source": [
    "# It’s possible to compute the mean of each variables by clusters using the original data\n",
    "aggregate(USArrests, by=list(cluster=km.res$cluster), mean)\n",
    "dd <- cbind(USArrests, cluster = km.res$cluster)\n",
    "head(dd)"
   ]
  },
  {
   "cell_type": "code",
   "execution_count": 26,
   "metadata": {},
   "outputs": [
    {
     "data": {
      "text/html": [
       "<dl class=dl-horizontal>\n",
       "\t<dt>Alabama</dt>\n",
       "\t\t<dd>4</dd>\n",
       "\t<dt>Alaska</dt>\n",
       "\t\t<dd>3</dd>\n",
       "\t<dt>Arizona</dt>\n",
       "\t\t<dd>3</dd>\n",
       "\t<dt>Arkansas</dt>\n",
       "\t\t<dd>4</dd>\n",
       "\t<dt>California</dt>\n",
       "\t\t<dd>3</dd>\n",
       "\t<dt>Colorado</dt>\n",
       "\t\t<dd>3</dd>\n",
       "\t<dt>Connecticut</dt>\n",
       "\t\t<dd>2</dd>\n",
       "\t<dt>Delaware</dt>\n",
       "\t\t<dd>2</dd>\n",
       "\t<dt>Florida</dt>\n",
       "\t\t<dd>3</dd>\n",
       "\t<dt>Georgia</dt>\n",
       "\t\t<dd>4</dd>\n",
       "\t<dt>Hawaii</dt>\n",
       "\t\t<dd>2</dd>\n",
       "\t<dt>Idaho</dt>\n",
       "\t\t<dd>1</dd>\n",
       "\t<dt>Illinois</dt>\n",
       "\t\t<dd>3</dd>\n",
       "\t<dt>Indiana</dt>\n",
       "\t\t<dd>2</dd>\n",
       "\t<dt>Iowa</dt>\n",
       "\t\t<dd>1</dd>\n",
       "\t<dt>Kansas</dt>\n",
       "\t\t<dd>2</dd>\n",
       "\t<dt>Kentucky</dt>\n",
       "\t\t<dd>1</dd>\n",
       "\t<dt>Louisiana</dt>\n",
       "\t\t<dd>4</dd>\n",
       "\t<dt>Maine</dt>\n",
       "\t\t<dd>1</dd>\n",
       "\t<dt>Maryland</dt>\n",
       "\t\t<dd>3</dd>\n",
       "\t<dt>Massachusetts</dt>\n",
       "\t\t<dd>2</dd>\n",
       "\t<dt>Michigan</dt>\n",
       "\t\t<dd>3</dd>\n",
       "\t<dt>Minnesota</dt>\n",
       "\t\t<dd>1</dd>\n",
       "\t<dt>Mississippi</dt>\n",
       "\t\t<dd>4</dd>\n",
       "\t<dt>Missouri</dt>\n",
       "\t\t<dd>3</dd>\n",
       "\t<dt>Montana</dt>\n",
       "\t\t<dd>1</dd>\n",
       "\t<dt>Nebraska</dt>\n",
       "\t\t<dd>1</dd>\n",
       "\t<dt>Nevada</dt>\n",
       "\t\t<dd>3</dd>\n",
       "\t<dt>New Hampshire</dt>\n",
       "\t\t<dd>1</dd>\n",
       "\t<dt>New Jersey</dt>\n",
       "\t\t<dd>2</dd>\n",
       "\t<dt>New Mexico</dt>\n",
       "\t\t<dd>3</dd>\n",
       "\t<dt>New York</dt>\n",
       "\t\t<dd>3</dd>\n",
       "\t<dt>North Carolina</dt>\n",
       "\t\t<dd>4</dd>\n",
       "\t<dt>North Dakota</dt>\n",
       "\t\t<dd>1</dd>\n",
       "\t<dt>Ohio</dt>\n",
       "\t\t<dd>2</dd>\n",
       "\t<dt>Oklahoma</dt>\n",
       "\t\t<dd>2</dd>\n",
       "\t<dt>Oregon</dt>\n",
       "\t\t<dd>2</dd>\n",
       "\t<dt>Pennsylvania</dt>\n",
       "\t\t<dd>2</dd>\n",
       "\t<dt>Rhode Island</dt>\n",
       "\t\t<dd>2</dd>\n",
       "\t<dt>South Carolina</dt>\n",
       "\t\t<dd>4</dd>\n",
       "\t<dt>South Dakota</dt>\n",
       "\t\t<dd>1</dd>\n",
       "\t<dt>Tennessee</dt>\n",
       "\t\t<dd>4</dd>\n",
       "\t<dt>Texas</dt>\n",
       "\t\t<dd>3</dd>\n",
       "\t<dt>Utah</dt>\n",
       "\t\t<dd>2</dd>\n",
       "\t<dt>Vermont</dt>\n",
       "\t\t<dd>1</dd>\n",
       "\t<dt>Virginia</dt>\n",
       "\t\t<dd>2</dd>\n",
       "\t<dt>Washington</dt>\n",
       "\t\t<dd>2</dd>\n",
       "\t<dt>West Virginia</dt>\n",
       "\t\t<dd>1</dd>\n",
       "\t<dt>Wisconsin</dt>\n",
       "\t\t<dd>1</dd>\n",
       "\t<dt>Wyoming</dt>\n",
       "\t\t<dd>2</dd>\n",
       "</dl>\n"
      ],
      "text/latex": [
       "\\begin{description*}\n",
       "\\item[Alabama] 4\n",
       "\\item[Alaska] 3\n",
       "\\item[Arizona] 3\n",
       "\\item[Arkansas] 4\n",
       "\\item[California] 3\n",
       "\\item[Colorado] 3\n",
       "\\item[Connecticut] 2\n",
       "\\item[Delaware] 2\n",
       "\\item[Florida] 3\n",
       "\\item[Georgia] 4\n",
       "\\item[Hawaii] 2\n",
       "\\item[Idaho] 1\n",
       "\\item[Illinois] 3\n",
       "\\item[Indiana] 2\n",
       "\\item[Iowa] 1\n",
       "\\item[Kansas] 2\n",
       "\\item[Kentucky] 1\n",
       "\\item[Louisiana] 4\n",
       "\\item[Maine] 1\n",
       "\\item[Maryland] 3\n",
       "\\item[Massachusetts] 2\n",
       "\\item[Michigan] 3\n",
       "\\item[Minnesota] 1\n",
       "\\item[Mississippi] 4\n",
       "\\item[Missouri] 3\n",
       "\\item[Montana] 1\n",
       "\\item[Nebraska] 1\n",
       "\\item[Nevada] 3\n",
       "\\item[New Hampshire] 1\n",
       "\\item[New Jersey] 2\n",
       "\\item[New Mexico] 3\n",
       "\\item[New York] 3\n",
       "\\item[North Carolina] 4\n",
       "\\item[North Dakota] 1\n",
       "\\item[Ohio] 2\n",
       "\\item[Oklahoma] 2\n",
       "\\item[Oregon] 2\n",
       "\\item[Pennsylvania] 2\n",
       "\\item[Rhode Island] 2\n",
       "\\item[South Carolina] 4\n",
       "\\item[South Dakota] 1\n",
       "\\item[Tennessee] 4\n",
       "\\item[Texas] 3\n",
       "\\item[Utah] 2\n",
       "\\item[Vermont] 1\n",
       "\\item[Virginia] 2\n",
       "\\item[Washington] 2\n",
       "\\item[West Virginia] 1\n",
       "\\item[Wisconsin] 1\n",
       "\\item[Wyoming] 2\n",
       "\\end{description*}\n"
      ],
      "text/markdown": [
       "Alabama\n",
       ":   4Alaska\n",
       ":   3Arizona\n",
       ":   3Arkansas\n",
       ":   4California\n",
       ":   3Colorado\n",
       ":   3Connecticut\n",
       ":   2Delaware\n",
       ":   2Florida\n",
       ":   3Georgia\n",
       ":   4Hawaii\n",
       ":   2Idaho\n",
       ":   1Illinois\n",
       ":   3Indiana\n",
       ":   2Iowa\n",
       ":   1Kansas\n",
       ":   2Kentucky\n",
       ":   1Louisiana\n",
       ":   4Maine\n",
       ":   1Maryland\n",
       ":   3Massachusetts\n",
       ":   2Michigan\n",
       ":   3Minnesota\n",
       ":   1Mississippi\n",
       ":   4Missouri\n",
       ":   3Montana\n",
       ":   1Nebraska\n",
       ":   1Nevada\n",
       ":   3New Hampshire\n",
       ":   1New Jersey\n",
       ":   2New Mexico\n",
       ":   3New York\n",
       ":   3North Carolina\n",
       ":   4North Dakota\n",
       ":   1Ohio\n",
       ":   2Oklahoma\n",
       ":   2Oregon\n",
       ":   2Pennsylvania\n",
       ":   2Rhode Island\n",
       ":   2South Carolina\n",
       ":   4South Dakota\n",
       ":   1Tennessee\n",
       ":   4Texas\n",
       ":   3Utah\n",
       ":   2Vermont\n",
       ":   1Virginia\n",
       ":   2Washington\n",
       ":   2West Virginia\n",
       ":   1Wisconsin\n",
       ":   1Wyoming\n",
       ":   2\n",
       "\n"
      ],
      "text/plain": [
       "       Alabama         Alaska        Arizona       Arkansas     California \n",
       "             4              3              3              4              3 \n",
       "      Colorado    Connecticut       Delaware        Florida        Georgia \n",
       "             3              2              2              3              4 \n",
       "        Hawaii          Idaho       Illinois        Indiana           Iowa \n",
       "             2              1              3              2              1 \n",
       "        Kansas       Kentucky      Louisiana          Maine       Maryland \n",
       "             2              1              4              1              3 \n",
       " Massachusetts       Michigan      Minnesota    Mississippi       Missouri \n",
       "             2              3              1              4              3 \n",
       "       Montana       Nebraska         Nevada  New Hampshire     New Jersey \n",
       "             1              1              3              1              2 \n",
       "    New Mexico       New York North Carolina   North Dakota           Ohio \n",
       "             3              3              4              1              2 \n",
       "      Oklahoma         Oregon   Pennsylvania   Rhode Island South Carolina \n",
       "             2              2              2              2              4 \n",
       "  South Dakota      Tennessee          Texas           Utah        Vermont \n",
       "             1              4              3              2              1 \n",
       "      Virginia     Washington  West Virginia      Wisconsin        Wyoming \n",
       "             2              2              1              1              2 "
      ]
     },
     "metadata": {},
     "output_type": "display_data"
    },
    {
     "data": {
      "text/html": [
       "<dl class=dl-horizontal>\n",
       "\t<dt>Alabama</dt>\n",
       "\t\t<dd>4</dd>\n",
       "\t<dt>Alaska</dt>\n",
       "\t\t<dd>3</dd>\n",
       "\t<dt>Arizona</dt>\n",
       "\t\t<dd>3</dd>\n",
       "\t<dt>Arkansas</dt>\n",
       "\t\t<dd>4</dd>\n",
       "</dl>\n"
      ],
      "text/latex": [
       "\\begin{description*}\n",
       "\\item[Alabama] 4\n",
       "\\item[Alaska] 3\n",
       "\\item[Arizona] 3\n",
       "\\item[Arkansas] 4\n",
       "\\end{description*}\n"
      ],
      "text/markdown": [
       "Alabama\n",
       ":   4Alaska\n",
       ":   3Arizona\n",
       ":   3Arkansas\n",
       ":   4\n",
       "\n"
      ],
      "text/plain": [
       " Alabama   Alaska  Arizona Arkansas \n",
       "       4        3        3        4 "
      ]
     },
     "metadata": {},
     "output_type": "display_data"
    }
   ],
   "source": [
    "# Accessing to the results of kmeans() function\n",
    "# Cluster number for each of the observations\n",
    "km.res$cluster\n",
    "head(km.res$cluster, 4)"
   ]
  },
  {
   "cell_type": "code",
   "execution_count": 27,
   "metadata": {},
   "outputs": [
    {
     "data": {
      "text/html": [
       "<table>\n",
       "<caption>A matrix: 4 × 4 of type dbl</caption>\n",
       "<thead>\n",
       "\t<tr><th scope=col>Murder</th><th scope=col>Assault</th><th scope=col>UrbanPop</th><th scope=col>Rape</th></tr>\n",
       "</thead>\n",
       "<tbody>\n",
       "\t<tr><td>-0.9615407</td><td>-1.1066010</td><td>-0.9301069</td><td>-0.96676331</td></tr>\n",
       "\t<tr><td>-0.4894375</td><td>-0.3826001</td><td> 0.5758298</td><td>-0.26165379</td></tr>\n",
       "\t<tr><td> 0.6950701</td><td> 1.0394414</td><td> 0.7226370</td><td> 1.27693964</td></tr>\n",
       "\t<tr><td> 1.4118898</td><td> 0.8743346</td><td>-0.8145211</td><td> 0.01927104</td></tr>\n",
       "</tbody>\n",
       "</table>\n"
      ],
      "text/latex": [
       "A matrix: 4 × 4 of type dbl\n",
       "\\begin{tabular}{r|llll}\n",
       " Murder & Assault & UrbanPop & Rape\\\\\n",
       "\\hline\n",
       "\t -0.9615407 & -1.1066010 & -0.9301069 & -0.96676331\\\\\n",
       "\t -0.4894375 & -0.3826001 &  0.5758298 & -0.26165379\\\\\n",
       "\t  0.6950701 &  1.0394414 &  0.7226370 &  1.27693964\\\\\n",
       "\t  1.4118898 &  0.8743346 & -0.8145211 &  0.01927104\\\\\n",
       "\\end{tabular}\n"
      ],
      "text/markdown": [
       "\n",
       "A matrix: 4 × 4 of type dbl\n",
       "\n",
       "| Murder | Assault | UrbanPop | Rape |\n",
       "|---|---|---|---|\n",
       "| -0.9615407 | -1.1066010 | -0.9301069 | -0.96676331 |\n",
       "| -0.4894375 | -0.3826001 |  0.5758298 | -0.26165379 |\n",
       "|  0.6950701 |  1.0394414 |  0.7226370 |  1.27693964 |\n",
       "|  1.4118898 |  0.8743346 | -0.8145211 |  0.01927104 |\n",
       "\n"
      ],
      "text/plain": [
       "  Murder     Assault    UrbanPop   Rape       \n",
       "1 -0.9615407 -1.1066010 -0.9301069 -0.96676331\n",
       "2 -0.4894375 -0.3826001  0.5758298 -0.26165379\n",
       "3  0.6950701  1.0394414  0.7226370  1.27693964\n",
       "4  1.4118898  0.8743346 -0.8145211  0.01927104"
      ]
     },
     "metadata": {},
     "output_type": "display_data"
    }
   ],
   "source": [
    "# Cluster means\n",
    "km.res$centers"
   ]
  },
  {
   "cell_type": "code",
   "execution_count": 28,
   "metadata": {},
   "outputs": [
    {
     "data": {
      "image/png": "[encoded data removed]",
      "text/plain": [
       "plot without title"
      ]
     },
     "metadata": {},
     "output_type": "display_data"
    }
   ],
   "source": [
    "# Visualizing k-means clusters\n",
    "fviz_cluster(km.res, data = df,\n",
    "             palette = c(\"#2E9FDF\", \"#00AFBB\", \"#E7B800\", \"#FC4E07\"),\n",
    "             ellipse.type = \"euclid\", # Concentration ellipse\n",
    "             star.plot = TRUE, # Add segments from centroids to items\n",
    "             repel = TRUE, # Avoid label overplotting (slow)\n",
    "             ggtheme = theme_minimal()\n",
    ")"
   ]
  },
  {
   "cell_type": "markdown",
   "metadata": {},
   "source": [
    "# K-Mediods\n",
    "*** The most common k-medoids clustering methods is the PAMalgorithm (Partitioning\n",
    "                                                                      Around Medoids\n",
    "                                                                      ***\n",
    "*** PAM concept"
   ]
  },
  {
   "cell_type": "code",
   "execution_count": 29,
   "metadata": {},
   "outputs": [],
   "source": [
    "# Computing PAM in R\n",
    "# Data\n",
    "data(\"USArrests\") # Load the data set\n",
    "df <- scale(USArrests) # Scale the data"
   ]
  },
  {
   "cell_type": "code",
   "execution_count": 30,
   "metadata": {},
   "outputs": [
    {
     "data": {
      "text/html": [
       "<table>\n",
       "<caption>A matrix: 3 × 4 of type dbl</caption>\n",
       "<thead>\n",
       "\t<tr><th></th><th scope=col>Murder</th><th scope=col>Assault</th><th scope=col>UrbanPop</th><th scope=col>Rape</th></tr>\n",
       "</thead>\n",
       "<tbody>\n",
       "\t<tr><th scope=row>Alabama</th><td>1.24256408</td><td>0.7828393</td><td>-0.5209066</td><td>-0.003416473</td></tr>\n",
       "\t<tr><th scope=row>Alaska</th><td>0.50786248</td><td>1.1068225</td><td>-1.2117642</td><td> 2.484202941</td></tr>\n",
       "\t<tr><th scope=row>Arizona</th><td>0.07163341</td><td>1.4788032</td><td> 0.9989801</td><td> 1.042878388</td></tr>\n",
       "</tbody>\n",
       "</table>\n"
      ],
      "text/latex": [
       "A matrix: 3 × 4 of type dbl\n",
       "\\begin{tabular}{r|llll}\n",
       "  & Murder & Assault & UrbanPop & Rape\\\\\n",
       "\\hline\n",
       "\tAlabama & 1.24256408 & 0.7828393 & -0.5209066 & -0.003416473\\\\\n",
       "\tAlaska & 0.50786248 & 1.1068225 & -1.2117642 &  2.484202941\\\\\n",
       "\tArizona & 0.07163341 & 1.4788032 &  0.9989801 &  1.042878388\\\\\n",
       "\\end{tabular}\n"
      ],
      "text/markdown": [
       "\n",
       "A matrix: 3 × 4 of type dbl\n",
       "\n",
       "| <!--/--> | Murder | Assault | UrbanPop | Rape |\n",
       "|---|---|---|---|---|\n",
       "| Alabama | 1.24256408 | 0.7828393 | -0.5209066 | -0.003416473 |\n",
       "| Alaska | 0.50786248 | 1.1068225 | -1.2117642 |  2.484202941 |\n",
       "| Arizona | 0.07163341 | 1.4788032 |  0.9989801 |  1.042878388 |\n",
       "\n"
      ],
      "text/plain": [
       "        Murder     Assault   UrbanPop   Rape        \n",
       "Alabama 1.24256408 0.7828393 -0.5209066 -0.003416473\n",
       "Alaska  0.50786248 1.1068225 -1.2117642  2.484202941\n",
       "Arizona 0.07163341 1.4788032  0.9989801  1.042878388"
      ]
     },
     "metadata": {},
     "output_type": "display_data"
    }
   ],
   "source": [
    "head(df, n = 3) # View the firt 3 rows of the data "
   ]
  },
  {
   "cell_type": "code",
   "execution_count": 31,
   "metadata": {},
   "outputs": [],
   "source": [
    "# Usage\n",
    "# pam(x, k, metric = \"euclidean\", stand = FALSE)"
   ]
  },
  {
   "cell_type": "code",
   "execution_count": 32,
   "metadata": {},
   "outputs": [],
   "source": [
    "library(cluster)\n",
    "library(factoextra) "
   ]
  },
  {
   "cell_type": "code",
   "execution_count": 33,
   "metadata": {},
   "outputs": [
    {
     "data": {
      "image/png": "[encoded data removed]",
      "text/plain": [
       "plot without title"
      ]
     },
     "metadata": {},
     "output_type": "display_data"
    }
   ],
   "source": [
    "fviz_nbclust(df, pam, method = \"silhouette\")+\n",
    "  theme_classic()"
   ]
  },
  {
   "cell_type": "code",
   "execution_count": 34,
   "metadata": {},
   "outputs": [
    {
     "name": "stdout",
     "output_type": "stream",
     "text": [
      "Medoids:\n",
      "           ID     Murder    Assault   UrbanPop       Rape\n",
      "New Mexico 31  0.8292944  1.3708088  0.3081225  1.1603196\n",
      "Nebraska   27 -0.8008247 -0.8250772 -0.2445636 -0.5052109\n",
      "Clustering vector:\n",
      "       Alabama         Alaska        Arizona       Arkansas     California \n",
      "             1              1              1              2              1 \n",
      "      Colorado    Connecticut       Delaware        Florida        Georgia \n",
      "             1              2              2              1              1 \n",
      "        Hawaii          Idaho       Illinois        Indiana           Iowa \n",
      "             2              2              1              2              2 \n",
      "        Kansas       Kentucky      Louisiana          Maine       Maryland \n",
      "             2              2              1              2              1 \n",
      " Massachusetts       Michigan      Minnesota    Mississippi       Missouri \n",
      "             2              1              2              1              1 \n",
      "       Montana       Nebraska         Nevada  New Hampshire     New Jersey \n",
      "             2              2              1              2              2 \n",
      "    New Mexico       New York North Carolina   North Dakota           Ohio \n",
      "             1              1              1              2              2 \n",
      "      Oklahoma         Oregon   Pennsylvania   Rhode Island South Carolina \n",
      "             2              2              2              2              1 \n",
      "  South Dakota      Tennessee          Texas           Utah        Vermont \n",
      "             2              1              1              2              2 \n",
      "      Virginia     Washington  West Virginia      Wisconsin        Wyoming \n",
      "             2              2              2              2              2 \n",
      "Objective function:\n",
      "   build     swap \n",
      "1.441358 1.368969 \n",
      "\n",
      "Available components:\n",
      " [1] \"medoids\"    \"id.med\"     \"clustering\" \"objective\"  \"isolation\" \n",
      " [6] \"clusinfo\"   \"silinfo\"    \"diss\"       \"call\"       \"data\"      \n"
     ]
    }
   ],
   "source": [
    "pam.res <- pam(df, 2)\n",
    "print(pam.res)"
   ]
  },
  {
   "cell_type": "code",
   "execution_count": 36,
   "metadata": {},
   "outputs": [
    {
     "data": {
      "text/html": [
       "<table>\n",
       "<caption>A data.frame: 3 × 5</caption>\n",
       "<thead>\n",
       "\t<tr><th></th><th scope=col>Murder</th><th scope=col>Assault</th><th scope=col>UrbanPop</th><th scope=col>Rape</th><th scope=col>cluster</th></tr>\n",
       "\t<tr><th></th><th scope=col>&lt;dbl&gt;</th><th scope=col>&lt;int&gt;</th><th scope=col>&lt;int&gt;</th><th scope=col>&lt;dbl&gt;</th><th scope=col>&lt;int&gt;</th></tr>\n",
       "</thead>\n",
       "<tbody>\n",
       "\t<tr><th scope=row>Alabama</th><td>13.2</td><td>236</td><td>58</td><td>21.2</td><td>1</td></tr>\n",
       "\t<tr><th scope=row>Alaska</th><td>10.0</td><td>263</td><td>48</td><td>44.5</td><td>1</td></tr>\n",
       "\t<tr><th scope=row>Arizona</th><td> 8.1</td><td>294</td><td>80</td><td>31.0</td><td>1</td></tr>\n",
       "</tbody>\n",
       "</table>\n"
      ],
      "text/latex": [
       "A data.frame: 3 × 5\n",
       "\\begin{tabular}{r|lllll}\n",
       "  & Murder & Assault & UrbanPop & Rape & cluster\\\\\n",
       "  & <dbl> & <int> & <int> & <dbl> & <int>\\\\\n",
       "\\hline\n",
       "\tAlabama & 13.2 & 236 & 58 & 21.2 & 1\\\\\n",
       "\tAlaska & 10.0 & 263 & 48 & 44.5 & 1\\\\\n",
       "\tArizona &  8.1 & 294 & 80 & 31.0 & 1\\\\\n",
       "\\end{tabular}\n"
      ],
      "text/markdown": [
       "\n",
       "A data.frame: 3 × 5\n",
       "\n",
       "| <!--/--> | Murder &lt;dbl&gt; | Assault &lt;int&gt; | UrbanPop &lt;int&gt; | Rape &lt;dbl&gt; | cluster &lt;int&gt; |\n",
       "|---|---|---|---|---|---|\n",
       "| Alabama | 13.2 | 236 | 58 | 21.2 | 1 |\n",
       "| Alaska | 10.0 | 263 | 48 | 44.5 | 1 |\n",
       "| Arizona |  8.1 | 294 | 80 | 31.0 | 1 |\n",
       "\n"
      ],
      "text/plain": [
       "        Murder Assault UrbanPop Rape cluster\n",
       "Alabama 13.2   236     58       21.2 1      \n",
       "Alaska  10.0   263     48       44.5 1      \n",
       "Arizona  8.1   294     80       31.0 1      "
      ]
     },
     "metadata": {},
     "output_type": "display_data"
    }
   ],
   "source": [
    "dd <- cbind(USArrests, cluster = pam.res$cluster)\n",
    "head(dd, n = 3)"
   ]
  },
  {
   "cell_type": "code",
   "execution_count": 37,
   "metadata": {},
   "outputs": [
    {
     "data": {
      "text/html": [
       "<table>\n",
       "<caption>A matrix: 2 × 4 of type dbl</caption>\n",
       "<thead>\n",
       "\t<tr><th></th><th scope=col>Murder</th><th scope=col>Assault</th><th scope=col>UrbanPop</th><th scope=col>Rape</th></tr>\n",
       "</thead>\n",
       "<tbody>\n",
       "\t<tr><th scope=row>New Mexico</th><td> 0.8292944</td><td> 1.3708088</td><td> 0.3081225</td><td> 1.1603196</td></tr>\n",
       "\t<tr><th scope=row>Nebraska</th><td>-0.8008247</td><td>-0.8250772</td><td>-0.2445636</td><td>-0.5052109</td></tr>\n",
       "</tbody>\n",
       "</table>\n"
      ],
      "text/latex": [
       "A matrix: 2 × 4 of type dbl\n",
       "\\begin{tabular}{r|llll}\n",
       "  & Murder & Assault & UrbanPop & Rape\\\\\n",
       "\\hline\n",
       "\tNew Mexico &  0.8292944 &  1.3708088 &  0.3081225 &  1.1603196\\\\\n",
       "\tNebraska & -0.8008247 & -0.8250772 & -0.2445636 & -0.5052109\\\\\n",
       "\\end{tabular}\n"
      ],
      "text/markdown": [
       "\n",
       "A matrix: 2 × 4 of type dbl\n",
       "\n",
       "| <!--/--> | Murder | Assault | UrbanPop | Rape |\n",
       "|---|---|---|---|---|\n",
       "| New Mexico |  0.8292944 |  1.3708088 |  0.3081225 |  1.1603196 |\n",
       "| Nebraska | -0.8008247 | -0.8250772 | -0.2445636 | -0.5052109 |\n",
       "\n"
      ],
      "text/plain": [
       "           Murder     Assault    UrbanPop   Rape      \n",
       "New Mexico  0.8292944  1.3708088  0.3081225  1.1603196\n",
       "Nebraska   -0.8008247 -0.8250772 -0.2445636 -0.5052109"
      ]
     },
     "metadata": {},
     "output_type": "display_data"
    }
   ],
   "source": [
    "# Cluster medoids: New Mexico, Nebraska\n",
    "pam.res$medoids"
   ]
  },
  {
   "cell_type": "code",
   "execution_count": 39,
   "metadata": {},
   "outputs": [
    {
     "data": {
      "text/html": [
       "<dl class=dl-horizontal>\n",
       "\t<dt>Alabama</dt>\n",
       "\t\t<dd>1</dd>\n",
       "\t<dt>Alaska</dt>\n",
       "\t\t<dd>1</dd>\n",
       "\t<dt>Arizona</dt>\n",
       "\t\t<dd>1</dd>\n",
       "\t<dt>Arkansas</dt>\n",
       "\t\t<dd>2</dd>\n",
       "\t<dt>California</dt>\n",
       "\t\t<dd>1</dd>\n",
       "\t<dt>Colorado</dt>\n",
       "\t\t<dd>1</dd>\n",
       "</dl>\n"
      ],
      "text/latex": [
       "\\begin{description*}\n",
       "\\item[Alabama] 1\n",
       "\\item[Alaska] 1\n",
       "\\item[Arizona] 1\n",
       "\\item[Arkansas] 2\n",
       "\\item[California] 1\n",
       "\\item[Colorado] 1\n",
       "\\end{description*}\n"
      ],
      "text/markdown": [
       "Alabama\n",
       ":   1Alaska\n",
       ":   1Arizona\n",
       ":   1Arkansas\n",
       ":   2California\n",
       ":   1Colorado\n",
       ":   1\n",
       "\n"
      ],
      "text/plain": [
       "   Alabama     Alaska    Arizona   Arkansas California   Colorado \n",
       "         1          1          1          2          1          1 "
      ]
     },
     "metadata": {},
     "output_type": "display_data"
    }
   ],
   "source": [
    "# Cluster numbers\n",
    "head(pam.res$clustering)"
   ]
  },
  {
   "cell_type": "code",
   "execution_count": 40,
   "metadata": {},
   "outputs": [
    {
     "data": {
      "image/png": "[encoded data removed]",
      "text/plain": [
       "plot without title"
      ]
     },
     "metadata": {},
     "output_type": "display_data"
    }
   ],
   "source": [
    "#Visualizing PAM clusters\n",
    "fviz_cluster(pam.res,\n",
    "             palette = c(\"#00AFBB\", \"#FC4E07\"), # color palette\n",
    "             ellipse.type = \"t\", # Concentration ellipse\n",
    "             repel = TRUE, # Avoid label overplotting (slow)\n",
    "             ggtheme = theme_classic()\n",
    ")\n"
   ]
  },
  {
   "cell_type": "markdown",
   "metadata": {},
   "source": [
    "# Hierarchial Clustering"
   ]
  },
  {
   "cell_type": "code",
   "execution_count": 42,
   "metadata": {},
   "outputs": [],
   "source": [
    "#Agglomerative Clustering\n",
    "# Load the data\n",
    "data(\"USArrests\")"
   ]
  },
  {
   "cell_type": "code",
   "execution_count": 43,
   "metadata": {},
   "outputs": [],
   "source": [
    "# Standardize the data\n",
    "df <- scale(USArrests) "
   ]
  },
  {
   "cell_type": "code",
   "execution_count": 44,
   "metadata": {},
   "outputs": [
    {
     "data": {
      "text/html": [
       "<table>\n",
       "<caption>A matrix: 6 × 4 of type dbl</caption>\n",
       "<thead>\n",
       "\t<tr><th></th><th scope=col>Murder</th><th scope=col>Assault</th><th scope=col>UrbanPop</th><th scope=col>Rape</th></tr>\n",
       "</thead>\n",
       "<tbody>\n",
       "\t<tr><th scope=row>Alabama</th><td>1.24256408</td><td>0.7828393</td><td>-0.5209066</td><td>-0.003416473</td></tr>\n",
       "\t<tr><th scope=row>Alaska</th><td>0.50786248</td><td>1.1068225</td><td>-1.2117642</td><td> 2.484202941</td></tr>\n",
       "\t<tr><th scope=row>Arizona</th><td>0.07163341</td><td>1.4788032</td><td> 0.9989801</td><td> 1.042878388</td></tr>\n",
       "\t<tr><th scope=row>Arkansas</th><td>0.23234938</td><td>0.2308680</td><td>-1.0735927</td><td>-0.184916602</td></tr>\n",
       "\t<tr><th scope=row>California</th><td>0.27826823</td><td>1.2628144</td><td> 1.7589234</td><td> 2.067820292</td></tr>\n",
       "\t<tr><th scope=row>Colorado</th><td>0.02571456</td><td>0.3988593</td><td> 0.8608085</td><td> 1.864967207</td></tr>\n",
       "</tbody>\n",
       "</table>\n"
      ],
      "text/latex": [
       "A matrix: 6 × 4 of type dbl\n",
       "\\begin{tabular}{r|llll}\n",
       "  & Murder & Assault & UrbanPop & Rape\\\\\n",
       "\\hline\n",
       "\tAlabama & 1.24256408 & 0.7828393 & -0.5209066 & -0.003416473\\\\\n",
       "\tAlaska & 0.50786248 & 1.1068225 & -1.2117642 &  2.484202941\\\\\n",
       "\tArizona & 0.07163341 & 1.4788032 &  0.9989801 &  1.042878388\\\\\n",
       "\tArkansas & 0.23234938 & 0.2308680 & -1.0735927 & -0.184916602\\\\\n",
       "\tCalifornia & 0.27826823 & 1.2628144 &  1.7589234 &  2.067820292\\\\\n",
       "\tColorado & 0.02571456 & 0.3988593 &  0.8608085 &  1.864967207\\\\\n",
       "\\end{tabular}\n"
      ],
      "text/markdown": [
       "\n",
       "A matrix: 6 × 4 of type dbl\n",
       "\n",
       "| <!--/--> | Murder | Assault | UrbanPop | Rape |\n",
       "|---|---|---|---|---|\n",
       "| Alabama | 1.24256408 | 0.7828393 | -0.5209066 | -0.003416473 |\n",
       "| Alaska | 0.50786248 | 1.1068225 | -1.2117642 |  2.484202941 |\n",
       "| Arizona | 0.07163341 | 1.4788032 |  0.9989801 |  1.042878388 |\n",
       "| Arkansas | 0.23234938 | 0.2308680 | -1.0735927 | -0.184916602 |\n",
       "| California | 0.27826823 | 1.2628144 |  1.7589234 |  2.067820292 |\n",
       "| Colorado | 0.02571456 | 0.3988593 |  0.8608085 |  1.864967207 |\n",
       "\n"
      ],
      "text/plain": [
       "           Murder     Assault   UrbanPop   Rape        \n",
       "Alabama    1.24256408 0.7828393 -0.5209066 -0.003416473\n",
       "Alaska     0.50786248 1.1068225 -1.2117642  2.484202941\n",
       "Arizona    0.07163341 1.4788032  0.9989801  1.042878388\n",
       "Arkansas   0.23234938 0.2308680 -1.0735927 -0.184916602\n",
       "California 0.27826823 1.2628144  1.7589234  2.067820292\n",
       "Colorado   0.02571456 0.3988593  0.8608085  1.864967207"
      ]
     },
     "metadata": {},
     "output_type": "display_data"
    }
   ],
   "source": [
    "# Show the first 6 rows\n",
    "head(df, nrow = 6)"
   ]
  },
  {
   "cell_type": "code",
   "execution_count": 45,
   "metadata": {},
   "outputs": [
    {
     "data": {
      "text/html": [
       "<table>\n",
       "<caption>A matrix: 6 × 6 of type dbl</caption>\n",
       "<thead>\n",
       "\t<tr><th></th><th scope=col>Alabama</th><th scope=col>Alaska</th><th scope=col>Arizona</th><th scope=col>Arkansas</th><th scope=col>California</th><th scope=col>Colorado</th></tr>\n",
       "</thead>\n",
       "<tbody>\n",
       "\t<tr><th scope=row>Alabama</th><td>0.000000</td><td>2.703754</td><td>2.293520</td><td>1.289810</td><td>3.263110</td><td>2.651067</td></tr>\n",
       "\t<tr><th scope=row>Alaska</th><td>2.703754</td><td>0.000000</td><td>2.700643</td><td>2.826039</td><td>3.012541</td><td>2.326519</td></tr>\n",
       "\t<tr><th scope=row>Arizona</th><td>2.293520</td><td>2.700643</td><td>0.000000</td><td>2.717758</td><td>1.310484</td><td>1.365031</td></tr>\n",
       "\t<tr><th scope=row>Arkansas</th><td>1.289810</td><td>2.826039</td><td>2.717758</td><td>0.000000</td><td>3.763641</td><td>2.831051</td></tr>\n",
       "\t<tr><th scope=row>California</th><td>3.263110</td><td>3.012541</td><td>1.310484</td><td>3.763641</td><td>0.000000</td><td>1.287619</td></tr>\n",
       "\t<tr><th scope=row>Colorado</th><td>2.651067</td><td>2.326519</td><td>1.365031</td><td>2.831051</td><td>1.287619</td><td>0.000000</td></tr>\n",
       "</tbody>\n",
       "</table>\n"
      ],
      "text/latex": [
       "A matrix: 6 × 6 of type dbl\n",
       "\\begin{tabular}{r|llllll}\n",
       "  & Alabama & Alaska & Arizona & Arkansas & California & Colorado\\\\\n",
       "\\hline\n",
       "\tAlabama & 0.000000 & 2.703754 & 2.293520 & 1.289810 & 3.263110 & 2.651067\\\\\n",
       "\tAlaska & 2.703754 & 0.000000 & 2.700643 & 2.826039 & 3.012541 & 2.326519\\\\\n",
       "\tArizona & 2.293520 & 2.700643 & 0.000000 & 2.717758 & 1.310484 & 1.365031\\\\\n",
       "\tArkansas & 1.289810 & 2.826039 & 2.717758 & 0.000000 & 3.763641 & 2.831051\\\\\n",
       "\tCalifornia & 3.263110 & 3.012541 & 1.310484 & 3.763641 & 0.000000 & 1.287619\\\\\n",
       "\tColorado & 2.651067 & 2.326519 & 1.365031 & 2.831051 & 1.287619 & 0.000000\\\\\n",
       "\\end{tabular}\n"
      ],
      "text/markdown": [
       "\n",
       "A matrix: 6 × 6 of type dbl\n",
       "\n",
       "| <!--/--> | Alabama | Alaska | Arizona | Arkansas | California | Colorado |\n",
       "|---|---|---|---|---|---|---|\n",
       "| Alabama | 0.000000 | 2.703754 | 2.293520 | 1.289810 | 3.263110 | 2.651067 |\n",
       "| Alaska | 2.703754 | 0.000000 | 2.700643 | 2.826039 | 3.012541 | 2.326519 |\n",
       "| Arizona | 2.293520 | 2.700643 | 0.000000 | 2.717758 | 1.310484 | 1.365031 |\n",
       "| Arkansas | 1.289810 | 2.826039 | 2.717758 | 0.000000 | 3.763641 | 2.831051 |\n",
       "| California | 3.263110 | 3.012541 | 1.310484 | 3.763641 | 0.000000 | 1.287619 |\n",
       "| Colorado | 2.651067 | 2.326519 | 1.365031 | 2.831051 | 1.287619 | 0.000000 |\n",
       "\n"
      ],
      "text/plain": [
       "           Alabama  Alaska   Arizona  Arkansas California Colorado\n",
       "Alabama    0.000000 2.703754 2.293520 1.289810 3.263110   2.651067\n",
       "Alaska     2.703754 0.000000 2.700643 2.826039 3.012541   2.326519\n",
       "Arizona    2.293520 2.700643 0.000000 2.717758 1.310484   1.365031\n",
       "Arkansas   1.289810 2.826039 2.717758 0.000000 3.763641   2.831051\n",
       "California 3.263110 3.012541 1.310484 3.763641 0.000000   1.287619\n",
       "Colorado   2.651067 2.326519 1.365031 2.831051 1.287619   0.000000"
      ]
     },
     "metadata": {},
     "output_type": "display_data"
    }
   ],
   "source": [
    "# Compute the dissimilarity matrix\n",
    "# df = the standardized data\n",
    "res.dist <- dist(df, method = \"euclidean\")\n",
    "as.matrix(res.dist)[1:6, 1:6]"
   ]
  },
  {
   "cell_type": "code",
   "execution_count": 46,
   "metadata": {},
   "outputs": [],
   "source": [
    "# R base function hclust() can be used to create the hierarchical tree.\n",
    "# hclust() can be used as follow: \n",
    "res.hc <- hclust(d = res.dist, method = \"ward.D2\")  "
   ]
  },
  {
   "cell_type": "code",
   "execution_count": 47,
   "metadata": {},
   "outputs": [
    {
     "data": {
      "image/png": "[encoded data removed]",
      "text/plain": [
       "plot without title"
      ]
     },
     "metadata": {},
     "output_type": "display_data"
    }
   ],
   "source": [
    "# cex: label size\n",
    "library(\"factoextra\")\n",
    "fviz_dend(res.hc, cex = 0.5)"
   ]
  },
  {
   "cell_type": "code",
   "execution_count": 49,
   "metadata": {},
   "outputs": [],
   "source": [
    "#Verify the cluster tree\n",
    "# Compute cophentic distance\n",
    "res.coph <- cophenetic(res.hc)"
   ]
  },
  {
   "cell_type": "code",
   "execution_count": 50,
   "metadata": {},
   "outputs": [
    {
     "data": {
      "text/html": [
       "0.697526563237039"
      ],
      "text/latex": [
       "0.697526563237039"
      ],
      "text/markdown": [
       "0.697526563237039"
      ],
      "text/plain": [
       "[1] 0.6975266"
      ]
     },
     "metadata": {},
     "output_type": "display_data"
    }
   ],
   "source": [
    "# Correlation between cophenetic distance and\n",
    "# the original distance\n",
    "cor(res.dist, res.coph)"
   ]
  },
  {
   "cell_type": "code",
   "execution_count": 51,
   "metadata": {},
   "outputs": [
    {
     "data": {
      "text/html": [
       "<dl class=dl-horizontal>\n",
       "\t<dt>Alabama</dt>\n",
       "\t\t<dd>1</dd>\n",
       "\t<dt>Alaska</dt>\n",
       "\t\t<dd>2</dd>\n",
       "\t<dt>Arizona</dt>\n",
       "\t\t<dd>2</dd>\n",
       "\t<dt>Arkansas</dt>\n",
       "\t\t<dd>3</dd>\n",
       "</dl>\n"
      ],
      "text/latex": [
       "\\begin{description*}\n",
       "\\item[Alabama] 1\n",
       "\\item[Alaska] 2\n",
       "\\item[Arizona] 2\n",
       "\\item[Arkansas] 3\n",
       "\\end{description*}\n"
      ],
      "text/markdown": [
       "Alabama\n",
       ":   1Alaska\n",
       ":   2Arizona\n",
       ":   2Arkansas\n",
       ":   3\n",
       "\n"
      ],
      "text/plain": [
       " Alabama   Alaska  Arizona Arkansas \n",
       "       1        2        2        3 "
      ]
     },
     "metadata": {},
     "output_type": "display_data"
    }
   ],
   "source": [
    "#Cut the dendrogram into different groups\n",
    "# Cut tree into 4 groups\n",
    "grp <- cutree(res.hc, k = 4)\n",
    "head(grp, n = 4)"
   ]
  },
  {
   "cell_type": "code",
   "execution_count": 52,
   "metadata": {},
   "outputs": [
    {
     "data": {
      "text/html": [
       "<ol class=list-inline>\n",
       "\t<li>'Alabama'</li>\n",
       "\t<li>'Georgia'</li>\n",
       "\t<li>'Louisiana'</li>\n",
       "\t<li>'Mississippi'</li>\n",
       "\t<li>'North Carolina'</li>\n",
       "\t<li>'South Carolina'</li>\n",
       "\t<li>'Tennessee'</li>\n",
       "</ol>\n"
      ],
      "text/latex": [
       "\\begin{enumerate*}\n",
       "\\item 'Alabama'\n",
       "\\item 'Georgia'\n",
       "\\item 'Louisiana'\n",
       "\\item 'Mississippi'\n",
       "\\item 'North Carolina'\n",
       "\\item 'South Carolina'\n",
       "\\item 'Tennessee'\n",
       "\\end{enumerate*}\n"
      ],
      "text/markdown": [
       "1. 'Alabama'\n",
       "2. 'Georgia'\n",
       "3. 'Louisiana'\n",
       "4. 'Mississippi'\n",
       "5. 'North Carolina'\n",
       "6. 'South Carolina'\n",
       "7. 'Tennessee'\n",
       "\n",
       "\n"
      ],
      "text/plain": [
       "[1] \"Alabama\"        \"Georgia\"        \"Louisiana\"      \"Mississippi\"   \n",
       "[5] \"North Carolina\" \"South Carolina\" \"Tennessee\"     "
      ]
     },
     "metadata": {},
     "output_type": "display_data"
    }
   ],
   "source": [
    "# Get the names for the members of cluster 1\n",
    "rownames(df)[grp == 1]"
   ]
  },
  {
   "cell_type": "code",
   "execution_count": 53,
   "metadata": {},
   "outputs": [
    {
     "data": {
      "image/png": "[encoded data removed]",
      "text/plain": [
       "plot without title"
      ]
     },
     "metadata": {},
     "output_type": "display_data"
    }
   ],
   "source": [
    "# Cut in 4 groups and color by groups\n",
    "fviz_dend(res.hc, k = 4, # Cut in four groups\n",
    "          cex = 0.5, # label size\n",
    "          k_colors = c(\"#2E9FDF\", \"#00AFBB\", \"#E7B800\", \"#FC4E07\"),\n",
    "          color_labels_by_k = TRUE, # color labels by groups\n",
    "          rect = TRUE # Add rectangle around groups\n",
    ")"
   ]
  },
  {
   "cell_type": "code",
   "execution_count": 54,
   "metadata": {},
   "outputs": [
    {
     "data": {
      "image/png": "[encoded data removed]",
      "text/plain": [
       "plot without title"
      ]
     },
     "metadata": {},
     "output_type": "display_data"
    }
   ],
   "source": [
    "fviz_cluster(list(data = df, cluster = grp),\n",
    "             palette = c(\"#2E9FDF\", \"#00AFBB\", \"#E7B800\", \"#FC4E07\"),\n",
    "             ellipse.type = \"convex\", # Concentration ellipse\n",
    "             repel = TRUE, # Avoid label overplotting (slow)\n",
    "             show.clust.cent = FALSE, ggtheme = theme_minimal())"
   ]
  },
  {
   "cell_type": "code",
   "execution_count": 55,
   "metadata": {},
   "outputs": [],
   "source": [
    "# Cluster R package\n",
    "library(\"cluster\")\n",
    "# Agglomerative Nesting (Hierarchical Clustering)\n",
    "res.agnes <- agnes(x = USArrests, # data matrix\n",
    "                   stand = TRUE, # Standardize the data\n",
    "                   metric = \"euclidean\", # metric for distance matrix\n",
    "                   method = \"ward\" # Linkage method\n",
    ")"
   ]
  },
  {
   "cell_type": "code",
   "execution_count": 56,
   "metadata": {},
   "outputs": [],
   "source": [
    "# DIvisive ANAlysis Clustering\n",
    "res.diana <- diana(x = USArrests, # data matrix\n",
    "                   stand = TRUE, # standardize the data\n",
    "                   metric = \"euclidean\" # metric for distance matrix\n",
    ")"
   ]
  },
  {
   "cell_type": "code",
   "execution_count": 57,
   "metadata": {},
   "outputs": [
    {
     "data": {
      "image/png": "[encoded data removed]",
      "text/plain": [
       "plot without title"
      ]
     },
     "metadata": {},
     "output_type": "display_data"
    }
   ],
   "source": [
    "fviz_dend(res.agnes, cex = 0.6, k = 4)"
   ]
  },
  {
   "cell_type": "markdown",
   "metadata": {},
   "source": [
    "# Density Based Clustering Algorithm\n"
   ]
  },
  {
   "cell_type": "code",
   "execution_count": 58,
   "metadata": {},
   "outputs": [
    {
     "name": "stderr",
     "output_type": "stream",
     "text": [
      "Warning message:\n",
      "\"package 'fpc' was built under R version 3.5.3\"Warning message:\n",
      "\"package 'dbscan' was built under R version 3.5.3\"\n",
      "Attaching package: 'dbscan'\n",
      "\n",
      "The following object is masked from 'package:fpc':\n",
      "\n",
      "    dbscan\n",
      "\n"
     ]
    }
   ],
   "source": [
    "# DBSCAN (Density-Based Spatial Clustering and Application with Noise),\n",
    "#Computing DBSCAN\n",
    "library(fpc)\n",
    "library(dbscan)"
   ]
  },
  {
   "cell_type": "code",
   "execution_count": 59,
   "metadata": {},
   "outputs": [],
   "source": [
    "# Load the data\n",
    "data(\"multishapes\", package = \"factoextra\")\n",
    "df <- multishapes[, 1:2]"
   ]
  },
  {
   "cell_type": "code",
   "execution_count": 60,
   "metadata": {},
   "outputs": [],
   "source": [
    "# Compute DBSCAN using fpc package\n",
    "set.seed(123)\n",
    "db <- fpc::dbscan(df, eps = 0.15, MinPts = 5)"
   ]
  },
  {
   "cell_type": "code",
   "execution_count": 61,
   "metadata": {},
   "outputs": [
    {
     "data": {
      "image/png": "[encoded data removed]",
      "text/plain": [
       "plot without title"
      ]
     },
     "metadata": {},
     "output_type": "display_data"
    }
   ],
   "source": [
    "# Plot DBSCAN results\n",
    "library(\"factoextra\")\n",
    "fviz_cluster(db, data = df, stand = FALSE,\n",
    "             ellipse = FALSE, show.clust.cent = FALSE,\n",
    "             geom = \"point\",palette = \"jco\", ggtheme = theme_classic())"
   ]
  },
  {
   "cell_type": "code",
   "execution_count": 62,
   "metadata": {},
   "outputs": [
    {
     "name": "stdout",
     "output_type": "stream",
     "text": [
      "dbscan Pts=1100 MinPts=5 eps=0.15\n",
      "        0   1   2   3  4  5\n",
      "border 31  24   1   5  7  1\n",
      "seed    0 386 404  99 92 50\n",
      "total  31 410 405 104 99 51\n"
     ]
    }
   ],
   "source": [
    "print(db)"
   ]
  },
  {
   "cell_type": "code",
   "execution_count": 63,
   "metadata": {},
   "outputs": [
    {
     "data": {
      "text/html": [
       "<ol class=list-inline>\n",
       "\t<li>1</li>\n",
       "\t<li>3</li>\n",
       "\t<li>2</li>\n",
       "\t<li>4</li>\n",
       "\t<li>3</li>\n",
       "\t<li>1</li>\n",
       "\t<li>2</li>\n",
       "\t<li>4</li>\n",
       "\t<li>2</li>\n",
       "\t<li>2</li>\n",
       "\t<li>2</li>\n",
       "\t<li>2</li>\n",
       "\t<li>2</li>\n",
       "\t<li>2</li>\n",
       "\t<li>1</li>\n",
       "\t<li>4</li>\n",
       "\t<li>1</li>\n",
       "\t<li>1</li>\n",
       "\t<li>1</li>\n",
       "\t<li>0</li>\n",
       "</ol>\n"
      ],
      "text/latex": [
       "\\begin{enumerate*}\n",
       "\\item 1\n",
       "\\item 3\n",
       "\\item 2\n",
       "\\item 4\n",
       "\\item 3\n",
       "\\item 1\n",
       "\\item 2\n",
       "\\item 4\n",
       "\\item 2\n",
       "\\item 2\n",
       "\\item 2\n",
       "\\item 2\n",
       "\\item 2\n",
       "\\item 2\n",
       "\\item 1\n",
       "\\item 4\n",
       "\\item 1\n",
       "\\item 1\n",
       "\\item 1\n",
       "\\item 0\n",
       "\\end{enumerate*}\n"
      ],
      "text/markdown": [
       "1. 1\n",
       "2. 3\n",
       "3. 2\n",
       "4. 4\n",
       "5. 3\n",
       "6. 1\n",
       "7. 2\n",
       "8. 4\n",
       "9. 2\n",
       "10. 2\n",
       "11. 2\n",
       "12. 2\n",
       "13. 2\n",
       "14. 2\n",
       "15. 1\n",
       "16. 4\n",
       "17. 1\n",
       "18. 1\n",
       "19. 1\n",
       "20. 0\n",
       "\n",
       "\n"
      ],
      "text/plain": [
       " [1] 1 3 2 4 3 1 2 4 2 2 2 2 2 2 1 4 1 1 1 0"
      ]
     },
     "metadata": {},
     "output_type": "display_data"
    },
    {
     "data": {
      "image/png": "[encoded data removed]",
      "text/plain": [
       "plot without title"
      ]
     },
     "metadata": {},
     "output_type": "display_data"
    }
   ],
   "source": [
    "# Cluster membership. Noise/outlier observations are coded as 0\n",
    "# A random subset is shown\n",
    "db$cluster[sample(1:1089, 20)]\n",
    "dbscan::kNNdistplot(df, k = 5)\n",
    "abline(h = 0.15, lty = 2)\n"
   ]
  },
  {
   "cell_type": "code",
   "execution_count": null,
   "metadata": {},
   "outputs": [],
   "source": []
  }
 ],
 "metadata": {
  "kernelspec": {
   "display_name": "R",
   "language": "R",
   "name": "ir"
  },
  "language_info": {
   "codemirror_mode": "r",
   "file_extension": ".r",
   "mimetype": "text/x-r-source",
   "name": "R",
   "pygments_lexer": "r",
   "version": "3.5.2"
  }
 },
 "nbformat": 4,
 "nbformat_minor": 2
}
